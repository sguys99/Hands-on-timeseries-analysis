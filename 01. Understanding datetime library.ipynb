{
 "cells": [
  {
   "cell_type": "markdown",
   "metadata": {},
   "source": [
    "# Hands on timeseries analysis\n",
    "### part1 : Understanding python datetime library"
   ]
  },
  {
   "cell_type": "markdown",
   "metadata": {},
   "source": [
    "<div style=\"text-align: right\"> <b>Author : Kwang Myung Yu</b></div> "
   ]
  },
  {
   "cell_type": "markdown",
   "metadata": {},
   "source": [
    "<div style=\"text-align: right\"> Initial upload: 2020.07.20 </div> \n",
    "<div style=\"text-align: right\"> Last update: 2024.10.30 </div> "
   ]
  },
  {
   "cell_type": "markdown",
   "metadata": {},
   "source": [
    "This is a basic tutorial for timesseries analysis. In this tutorial, you will learn how to read, modify, visualize, and analyze timeseries data."
   ]
  },
  {
   "cell_type": "markdown",
   "metadata": {},
   "source": [
    "### 0. Library import"
   ]
  },
  {
   "cell_type": "code",
   "execution_count": 1,
   "metadata": {},
   "outputs": [],
   "source": [
    "import numpy as np\n",
    "import pandas as pd\n",
    "import matplotlib.pyplot as plt\n",
    "import seaborn as sns\n",
    "import datetime\n",
    "import warnings; warnings.filterwarnings('ignore')\n",
    "plt.style.use('ggplot')\n",
    "%matplotlib inline"
   ]
  },
  {
   "cell_type": "markdown",
   "metadata": {},
   "source": [
    "### 1. datetime library 기본"
   ]
  },
  {
   "cell_type": "markdown",
   "metadata": {},
   "source": [
    "날짜정보 객체 만들기"
   ]
  },
  {
   "cell_type": "code",
   "execution_count": 2,
   "metadata": {},
   "outputs": [],
   "source": [
    "my_birthday = datetime.datetime(1980, 5, 28)"
   ]
  },
  {
   "cell_type": "code",
   "execution_count": 3,
   "metadata": {},
   "outputs": [],
   "source": [
    "from datetime import datetime"
   ]
  },
  {
   "cell_type": "code",
   "execution_count": 4,
   "metadata": {},
   "outputs": [],
   "source": [
    "my_birthday = datetime(1980, 5, 28)"
   ]
  },
  {
   "cell_type": "code",
   "execution_count": 5,
   "metadata": {},
   "outputs": [
    {
     "data": {
      "text/plain": [
       "datetime.datetime(1980, 5, 28, 0, 0)"
      ]
     },
     "execution_count": 5,
     "metadata": {},
     "output_type": "execute_result"
    }
   ],
   "source": [
    "my_birthday"
   ]
  },
  {
   "cell_type": "markdown",
   "metadata": {},
   "source": [
    "데이터 타입 확인하기"
   ]
  },
  {
   "cell_type": "code",
   "execution_count": 6,
   "metadata": {},
   "outputs": [
    {
     "data": {
      "text/plain": [
       "datetime.datetime"
      ]
     },
     "execution_count": 6,
     "metadata": {},
     "output_type": "execute_result"
    }
   ],
   "source": [
    "type(my_birthday)"
   ]
  },
  {
   "cell_type": "markdown",
   "metadata": {},
   "source": [
    "현재 날짜와 시간 구하기 1"
   ]
  },
  {
   "cell_type": "code",
   "execution_count": 7,
   "metadata": {},
   "outputs": [],
   "source": [
    "today = datetime.today()"
   ]
  },
  {
   "cell_type": "code",
   "execution_count": 8,
   "metadata": {},
   "outputs": [
    {
     "data": {
      "text/plain": [
       "datetime.datetime(2024, 10, 30, 8, 38, 59, 979298)"
      ]
     },
     "execution_count": 8,
     "metadata": {},
     "output_type": "execute_result"
    }
   ],
   "source": [
    "today"
   ]
  },
  {
   "cell_type": "markdown",
   "metadata": {},
   "source": [
    "- 년, 월, 일, 시, 분, 초 순서이다."
   ]
  },
  {
   "cell_type": "markdown",
   "metadata": {},
   "source": [
    "현재 날짜와 시간 구하기 2"
   ]
  },
  {
   "cell_type": "code",
   "execution_count": 9,
   "metadata": {},
   "outputs": [
    {
     "data": {
      "text/plain": [
       "datetime.datetime(2024, 10, 30, 8, 38, 59, 987157)"
      ]
     },
     "execution_count": 9,
     "metadata": {},
     "output_type": "execute_result"
    }
   ],
   "source": [
    "today = datetime.now()\n",
    "today"
   ]
  },
  {
   "cell_type": "code",
   "execution_count": 10,
   "metadata": {},
   "outputs": [
    {
     "name": "stdout",
     "output_type": "stream",
     "text": [
      "2024-10-30 08:38:59.987157\n"
     ]
    }
   ],
   "source": [
    "print(today)"
   ]
  },
  {
   "cell_type": "markdown",
   "metadata": {},
   "source": [
    "- 연-월-일 시:분:초 형태로 표현되는 것을 알 수있다."
   ]
  },
  {
   "cell_type": "markdown",
   "metadata": {},
   "source": [
    "### 2. datetime library 응용"
   ]
  },
  {
   "cell_type": "markdown",
   "metadata": {},
   "source": [
    "strftime : 날짜정보를 문자열로 출력하기"
   ]
  },
  {
   "cell_type": "code",
   "execution_count": 11,
   "metadata": {},
   "outputs": [
    {
     "name": "stdout",
     "output_type": "stream",
     "text": [
      "2024-10-30\n"
     ]
    }
   ],
   "source": [
    "today = today.strftime('%Y-%m-%d')\n",
    "print(today)"
   ]
  },
  {
   "cell_type": "code",
   "execution_count": 12,
   "metadata": {},
   "outputs": [
    {
     "data": {
      "text/plain": [
       "str"
      ]
     },
     "execution_count": 12,
     "metadata": {},
     "output_type": "execute_result"
    }
   ],
   "source": [
    "type(today)"
   ]
  },
  {
   "cell_type": "code",
   "execution_count": 13,
   "metadata": {},
   "outputs": [
    {
     "name": "stdout",
     "output_type": "stream",
     "text": [
      "08:39:00\n"
     ]
    }
   ],
   "source": [
    "today = datetime.now()\n",
    "nowTime = today.strftime('%H:%M:%S')\n",
    "print(nowTime)"
   ]
  },
  {
   "cell_type": "code",
   "execution_count": 14,
   "metadata": {},
   "outputs": [
    {
     "name": "stdout",
     "output_type": "stream",
     "text": [
      "2024-10-30 08:39:00\n"
     ]
    }
   ],
   "source": [
    "today = datetime.now()\n",
    "todayTime = today.strftime('%Y-%m-%d %H:%M:%S')\n",
    "print(todayTime)"
   ]
  },
  {
   "cell_type": "markdown",
   "metadata": {},
   "source": [
    "strptime : 문자열을 날짜정보로 변환하기"
   ]
  },
  {
   "cell_type": "code",
   "execution_count": 15,
   "metadata": {},
   "outputs": [
    {
     "name": "stdout",
     "output_type": "stream",
     "text": [
      "<class 'datetime.datetime'>\n",
      "1980-05-28 14:30:00\n"
     ]
    }
   ],
   "source": [
    "my_birthday = '1980-05-28 14:30:00'\n",
    "my_birthday = datetime.strptime(my_birthday, '%Y-%m-%d %H:%M:%S')\n",
    "print(type(my_birthday))\n",
    "print(my_birthday)"
   ]
  },
  {
   "cell_type": "markdown",
   "metadata": {},
   "source": [
    "날짜, 시간 정보에만 인덱싱하기"
   ]
  },
  {
   "cell_type": "code",
   "execution_count": 16,
   "metadata": {},
   "outputs": [
    {
     "name": "stdout",
     "output_type": "stream",
     "text": [
      "2024-10-30 08:39:00.039145\n"
     ]
    }
   ],
   "source": [
    "today = datetime.now()\n",
    "print(today)"
   ]
  },
  {
   "cell_type": "code",
   "execution_count": 17,
   "metadata": {},
   "outputs": [
    {
     "name": "stdout",
     "output_type": "stream",
     "text": [
      "2024-10-30\n"
     ]
    }
   ],
   "source": [
    "date = today.date()\n",
    "print(date)"
   ]
  },
  {
   "cell_type": "code",
   "execution_count": 18,
   "metadata": {},
   "outputs": [
    {
     "name": "stdout",
     "output_type": "stream",
     "text": [
      "08:39:00.039145\n"
     ]
    }
   ],
   "source": [
    "nowTime = today.time()\n",
    "print(nowTime)"
   ]
  },
  {
   "cell_type": "code",
   "execution_count": 19,
   "metadata": {},
   "outputs": [
    {
     "name": "stdout",
     "output_type": "stream",
     "text": [
      "2024-10-30 08:39:00.039145\n"
     ]
    }
   ],
   "source": [
    "# 날짜와 시간 합치기\n",
    "dateTime = datetime.combine(date, nowTime)\n",
    "print(dateTime)"
   ]
  },
  {
   "cell_type": "markdown",
   "metadata": {},
   "source": [
    "년(year), 월(month), 일(day) 정보를 인덱싱하기"
   ]
  },
  {
   "cell_type": "code",
   "execution_count": 20,
   "metadata": {},
   "outputs": [
    {
     "name": "stdout",
     "output_type": "stream",
     "text": [
      "2024-10-30 08:39:00.053950\n"
     ]
    }
   ],
   "source": [
    "today = datetime.now()\n",
    "print(today)"
   ]
  },
  {
   "cell_type": "code",
   "execution_count": 21,
   "metadata": {},
   "outputs": [
    {
     "name": "stdout",
     "output_type": "stream",
     "text": [
      "2024\n",
      "10\n",
      "30\n"
     ]
    }
   ],
   "source": [
    "print(today.year)\n",
    "print(today.month)\n",
    "print(today.day)"
   ]
  },
  {
   "cell_type": "markdown",
   "metadata": {},
   "source": [
    "날짜 연산"
   ]
  },
  {
   "cell_type": "code",
   "execution_count": 22,
   "metadata": {},
   "outputs": [],
   "source": [
    "from datetime import timedelta"
   ]
  },
  {
   "cell_type": "code",
   "execution_count": 23,
   "metadata": {},
   "outputs": [
    {
     "name": "stdout",
     "output_type": "stream",
     "text": [
      "2024-10-30\n"
     ]
    }
   ],
   "source": [
    "today = datetime.now().date()\n",
    "print(today)"
   ]
  },
  {
   "cell_type": "code",
   "execution_count": 24,
   "metadata": {},
   "outputs": [
    {
     "name": "stdout",
     "output_type": "stream",
     "text": [
      "2024-10-31\n"
     ]
    }
   ],
   "source": [
    "tomorrow = today + timedelta(days=1)\n",
    "print(tomorrow)"
   ]
  },
  {
   "cell_type": "markdown",
   "metadata": {},
   "source": [
    "- days 대신에 사용할 수 있는 인자 값 : weeks, hours, minutes, seconds 등"
   ]
  },
  {
   "cell_type": "markdown",
   "metadata": {},
   "source": [
    "### 3. datetime index  \n",
    "pandas 데이터프레임 시계열 데이터의 인덱스를 datetime으로 설정하면 분석이 용이하다."
   ]
  },
  {
   "cell_type": "code",
   "execution_count": 25,
   "metadata": {},
   "outputs": [],
   "source": [
    "dates = [datetime(2020, 7, 19), datetime(2020, 7, 19)+timedelta(days= 1)]"
   ]
  },
  {
   "cell_type": "code",
   "execution_count": 26,
   "metadata": {},
   "outputs": [
    {
     "data": {
      "text/plain": [
       "[datetime.datetime(2020, 7, 19, 0, 0), datetime.datetime(2020, 7, 20, 0, 0)]"
      ]
     },
     "execution_count": 26,
     "metadata": {},
     "output_type": "execute_result"
    }
   ],
   "source": [
    "dates"
   ]
  },
  {
   "cell_type": "markdown",
   "metadata": {},
   "source": [
    "pandas Datetime index 만들기"
   ]
  },
  {
   "cell_type": "code",
   "execution_count": 27,
   "metadata": {},
   "outputs": [],
   "source": [
    "dt_index = pd.DatetimeIndex(dates)"
   ]
  },
  {
   "cell_type": "code",
   "execution_count": 28,
   "metadata": {},
   "outputs": [
    {
     "data": {
      "text/plain": [
       "DatetimeIndex(['2020-07-19', '2020-07-20'], dtype='datetime64[ns]', freq=None)"
      ]
     },
     "execution_count": 28,
     "metadata": {},
     "output_type": "execute_result"
    }
   ],
   "source": [
    "dt_index"
   ]
  },
  {
   "cell_type": "markdown",
   "metadata": {},
   "source": [
    "특정 구간을 DatetimeIndex로 만들기"
   ]
  },
  {
   "cell_type": "code",
   "execution_count": 29,
   "metadata": {},
   "outputs": [
    {
     "data": {
      "text/plain": [
       "[datetime.datetime(2020, 7, 19, 0, 0), datetime.datetime(2020, 8, 8, 0, 0)]"
      ]
     },
     "execution_count": 29,
     "metadata": {},
     "output_type": "execute_result"
    }
   ],
   "source": [
    "dates = [datetime(2020, 7, 19), datetime(2020, 7, 19)+timedelta(days= 20)]\n",
    "dates"
   ]
  },
  {
   "cell_type": "code",
   "execution_count": 30,
   "metadata": {},
   "outputs": [],
   "source": [
    "dt_index = pd.date_range(dates[0], dates[1], freq='D')"
   ]
  },
  {
   "cell_type": "code",
   "execution_count": 31,
   "metadata": {},
   "outputs": [
    {
     "data": {
      "text/plain": [
       "DatetimeIndex(['2020-07-19', '2020-07-20', '2020-07-21', '2020-07-22',\n",
       "               '2020-07-23', '2020-07-24', '2020-07-25', '2020-07-26',\n",
       "               '2020-07-27', '2020-07-28', '2020-07-29', '2020-07-30',\n",
       "               '2020-07-31', '2020-08-01', '2020-08-02', '2020-08-03',\n",
       "               '2020-08-04', '2020-08-05', '2020-08-06', '2020-08-07',\n",
       "               '2020-08-08'],\n",
       "              dtype='datetime64[ns]', freq='D')"
      ]
     },
     "execution_count": 31,
     "metadata": {},
     "output_type": "execute_result"
    }
   ],
   "source": [
    "dt_index"
   ]
  },
  {
   "cell_type": "markdown",
   "metadata": {},
   "source": [
    "freq 관련 주요 인자는 다음과 같다.\n",
    "- s: 초\n",
    "- T: 분\n",
    "- H: 시간\n",
    "- D: 일(day)\n",
    "- B: 주말이 아닌 평일\n",
    "- W: 주(일요일)\n",
    "- W-MON: 주(월요일)\n",
    "- M: 각 달(month)의 마지막 날\n",
    "- MS: 각 달의 첫날\n",
    "- BM: 주말이 아닌 평일 중에서 각 달의 마지막 날\n",
    "- BMS: 주말이 아닌 평일 중에서 각 달의 첫날\n",
    "- WOM-2THU: 각 달의 두번째 목요일\n",
    "- Q-JAN: 각 분기의 첫달의 마지막 날\n",
    "- Q-DEC: 각 분기의 마지막 달의 마지막 날"
   ]
  },
  {
   "cell_type": "markdown",
   "metadata": {},
   "source": [
    "### 4. 시계열 데이터셋 만들어보기"
   ]
  },
  {
   "cell_type": "code",
   "execution_count": 32,
   "metadata": {},
   "outputs": [],
   "source": [
    "dates = [datetime(2020, 7, 1), datetime(2020, 7, 1)+timedelta(days= 30)]\n",
    "dt_index = pd.date_range(dates[0], dates[1], freq='D')"
   ]
  },
  {
   "cell_type": "markdown",
   "metadata": {},
   "source": [
    "Series 만들기"
   ]
  },
  {
   "cell_type": "code",
   "execution_count": 33,
   "metadata": {},
   "outputs": [],
   "source": [
    "series = pd.Series(np.random.randn(len(dt_index)), index=dt_index)"
   ]
  },
  {
   "cell_type": "code",
   "execution_count": 34,
   "metadata": {},
   "outputs": [
    {
     "data": {
      "text/plain": [
       "2020-07-01   -0.212141\n",
       "2020-07-02    0.813211\n",
       "2020-07-03   -0.561535\n",
       "2020-07-04    2.299846\n",
       "2020-07-05   -1.986172\n",
       "Freq: D, dtype: float64"
      ]
     },
     "execution_count": 34,
     "metadata": {},
     "output_type": "execute_result"
    }
   ],
   "source": [
    "series.head()"
   ]
  },
  {
   "cell_type": "markdown",
   "metadata": {},
   "source": [
    "Dataframe 만들기"
   ]
  },
  {
   "cell_type": "code",
   "execution_count": 35,
   "metadata": {},
   "outputs": [],
   "source": [
    "columns = ['A', 'B', 'C', 'D']\n",
    "data = np.random.randn(len(dt_index), len(columns))"
   ]
  },
  {
   "cell_type": "code",
   "execution_count": 36,
   "metadata": {},
   "outputs": [],
   "source": [
    "df = pd.DataFrame(data = data, index=dt_index, columns=columns)"
   ]
  },
  {
   "cell_type": "code",
   "execution_count": 37,
   "metadata": {},
   "outputs": [
    {
     "data": {
      "text/html": [
       "<div>\n",
       "<style scoped>\n",
       "    .dataframe tbody tr th:only-of-type {\n",
       "        vertical-align: middle;\n",
       "    }\n",
       "\n",
       "    .dataframe tbody tr th {\n",
       "        vertical-align: top;\n",
       "    }\n",
       "\n",
       "    .dataframe thead th {\n",
       "        text-align: right;\n",
       "    }\n",
       "</style>\n",
       "<table border=\"1\" class=\"dataframe\">\n",
       "  <thead>\n",
       "    <tr style=\"text-align: right;\">\n",
       "      <th></th>\n",
       "      <th>A</th>\n",
       "      <th>B</th>\n",
       "      <th>C</th>\n",
       "      <th>D</th>\n",
       "    </tr>\n",
       "  </thead>\n",
       "  <tbody>\n",
       "    <tr>\n",
       "      <th>2020-07-01</th>\n",
       "      <td>0.013541</td>\n",
       "      <td>-1.628359</td>\n",
       "      <td>-0.988472</td>\n",
       "      <td>-0.964649</td>\n",
       "    </tr>\n",
       "    <tr>\n",
       "      <th>2020-07-02</th>\n",
       "      <td>0.544616</td>\n",
       "      <td>0.459260</td>\n",
       "      <td>-1.824049</td>\n",
       "      <td>0.340942</td>\n",
       "    </tr>\n",
       "    <tr>\n",
       "      <th>2020-07-03</th>\n",
       "      <td>1.272145</td>\n",
       "      <td>0.459343</td>\n",
       "      <td>-0.808619</td>\n",
       "      <td>1.343583</td>\n",
       "    </tr>\n",
       "    <tr>\n",
       "      <th>2020-07-04</th>\n",
       "      <td>0.069917</td>\n",
       "      <td>-0.959500</td>\n",
       "      <td>-0.580901</td>\n",
       "      <td>-1.421207</td>\n",
       "    </tr>\n",
       "    <tr>\n",
       "      <th>2020-07-05</th>\n",
       "      <td>0.171612</td>\n",
       "      <td>-1.525901</td>\n",
       "      <td>-0.250458</td>\n",
       "      <td>1.316084</td>\n",
       "    </tr>\n",
       "  </tbody>\n",
       "</table>\n",
       "</div>"
      ],
      "text/plain": [
       "                   A         B         C         D\n",
       "2020-07-01  0.013541 -1.628359 -0.988472 -0.964649\n",
       "2020-07-02  0.544616  0.459260 -1.824049  0.340942\n",
       "2020-07-03  1.272145  0.459343 -0.808619  1.343583\n",
       "2020-07-04  0.069917 -0.959500 -0.580901 -1.421207\n",
       "2020-07-05  0.171612 -1.525901 -0.250458  1.316084"
      ]
     },
     "execution_count": 37,
     "metadata": {},
     "output_type": "execute_result"
    }
   ],
   "source": [
    "df.head()"
   ]
  },
  {
   "cell_type": "markdown",
   "metadata": {},
   "source": [
    "Dataframe 살펴보기"
   ]
  },
  {
   "cell_type": "code",
   "execution_count": 38,
   "metadata": {},
   "outputs": [
    {
     "data": {
      "text/plain": [
       "DatetimeIndex(['2020-07-01', '2020-07-02', '2020-07-03', '2020-07-04',\n",
       "               '2020-07-05', '2020-07-06', '2020-07-07', '2020-07-08',\n",
       "               '2020-07-09', '2020-07-10', '2020-07-11', '2020-07-12',\n",
       "               '2020-07-13', '2020-07-14', '2020-07-15', '2020-07-16',\n",
       "               '2020-07-17', '2020-07-18', '2020-07-19', '2020-07-20',\n",
       "               '2020-07-21', '2020-07-22', '2020-07-23', '2020-07-24',\n",
       "               '2020-07-25', '2020-07-26', '2020-07-27', '2020-07-28',\n",
       "               '2020-07-29', '2020-07-30', '2020-07-31'],\n",
       "              dtype='datetime64[ns]', freq='D')"
      ]
     },
     "execution_count": 38,
     "metadata": {},
     "output_type": "execute_result"
    }
   ],
   "source": [
    "df.index"
   ]
  },
  {
   "cell_type": "code",
   "execution_count": 39,
   "metadata": {},
   "outputs": [
    {
     "data": {
      "text/plain": [
       "Timestamp('2020-07-01 00:00:00')"
      ]
     },
     "execution_count": 39,
     "metadata": {},
     "output_type": "execute_result"
    }
   ],
   "source": [
    "df.index.min()"
   ]
  },
  {
   "cell_type": "code",
   "execution_count": 40,
   "metadata": {},
   "outputs": [
    {
     "data": {
      "text/plain": [
       "Timestamp('2020-07-31 00:00:00')"
      ]
     },
     "execution_count": 40,
     "metadata": {},
     "output_type": "execute_result"
    }
   ],
   "source": [
    "df.index.max()"
   ]
  }
 ],
 "metadata": {
  "kernelspec": {
   "display_name": "Python 3",
   "language": "python",
   "name": "python3"
  },
  "language_info": {
   "codemirror_mode": {
    "name": "ipython",
    "version": 3
   },
   "file_extension": ".py",
   "mimetype": "text/x-python",
   "name": "python",
   "nbconvert_exporter": "python",
   "pygments_lexer": "ipython3",
   "version": "3.11.10"
  }
 },
 "nbformat": 4,
 "nbformat_minor": 4
}
