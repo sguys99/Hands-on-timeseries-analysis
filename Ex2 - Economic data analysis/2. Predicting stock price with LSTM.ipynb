{
 "cells": [
  {
   "cell_type": "markdown",
   "metadata": {},
   "source": [
    "# 2. Predicting stock price with LSTM"
   ]
  },
  {
   "cell_type": "markdown",
   "metadata": {},
   "source": [
    "<div style=\"text-align: right\"> <b>Author : Kwang Myung Yu</b></div> "
   ]
  },
  {
   "cell_type": "markdown",
   "metadata": {},
   "source": [
    "<div style=\"text-align: right\"> Initial upload: 2020.08.11 </div> \n",
    "<div style=\"text-align: right\"> Last update: 2020.08.11</div> "
   ]
  },
  {
   "cell_type": "markdown",
   "metadata": {},
   "source": [
    "- 참고자료 : https://towardsdatascience.com/predicting-stock-price-with-lstm-13af86a74944"
   ]
  },
  {
   "cell_type": "markdown",
   "metadata": {},
   "source": [
    "본 자료는 참고자료의 내용을 필사하고 번역한 것이다.  \n",
    "LSTM으로 GE 주식 데이터를 예측한다."
   ]
  },
  {
   "cell_type": "markdown",
   "metadata": {},
   "source": [
    "### 1. 데이터셋 살펴보기"
   ]
  },
  {
   "cell_type": "markdown",
   "metadata": {},
   "source": [
    "`ge_stock.csv` 데이터셋을 사용한다."
   ]
  },
  {
   "cell_type": "code",
   "execution_count": 1,
   "metadata": {},
   "outputs": [],
   "source": [
    "import numpy as np\n",
    "import pandas as pd\n",
    "import matplotlib.pyplot as plt\n",
    "import seaborn as sns\n",
    "import datetime\n",
    "import warnings; warnings.filterwarnings('ignore')\n",
    "plt.style.use('ggplot')\n",
    "%matplotlib inline\n",
    "\n",
    "pd.set_option('display.max_rows', 500)\n",
    "\n",
    "from sklearn.metrics import mean_squared_error"
   ]
  },
  {
   "cell_type": "code",
   "execution_count": 2,
   "metadata": {},
   "outputs": [],
   "source": [
    "url = 'https://raw.githubusercontent.com/sguys99/datasets/master/ge_stock.csv'\n",
    "df = pd.read_csv(url)"
   ]
  },
  {
   "cell_type": "code",
   "execution_count": 3,
   "metadata": {},
   "outputs": [
    {
     "data": {
      "text/html": [
       "<div>\n",
       "<style scoped>\n",
       "    .dataframe tbody tr th:only-of-type {\n",
       "        vertical-align: middle;\n",
       "    }\n",
       "\n",
       "    .dataframe tbody tr th {\n",
       "        vertical-align: top;\n",
       "    }\n",
       "\n",
       "    .dataframe thead th {\n",
       "        text-align: right;\n",
       "    }\n",
       "</style>\n",
       "<table border=\"1\" class=\"dataframe\">\n",
       "  <thead>\n",
       "    <tr style=\"text-align: right;\">\n",
       "      <th></th>\n",
       "      <th>Date</th>\n",
       "      <th>Open</th>\n",
       "      <th>High</th>\n",
       "      <th>Low</th>\n",
       "      <th>Close</th>\n",
       "      <th>Volume</th>\n",
       "      <th>OpenInt</th>\n",
       "    </tr>\n",
       "  </thead>\n",
       "  <tbody>\n",
       "    <tr>\n",
       "      <th>0</th>\n",
       "      <td>1962-01-02</td>\n",
       "      <td>0.6277</td>\n",
       "      <td>0.6362</td>\n",
       "      <td>0.6201</td>\n",
       "      <td>0.6201</td>\n",
       "      <td>2575579</td>\n",
       "      <td>0</td>\n",
       "    </tr>\n",
       "    <tr>\n",
       "      <th>1</th>\n",
       "      <td>1962-01-03</td>\n",
       "      <td>0.6201</td>\n",
       "      <td>0.6201</td>\n",
       "      <td>0.6122</td>\n",
       "      <td>0.6201</td>\n",
       "      <td>1764749</td>\n",
       "      <td>0</td>\n",
       "    </tr>\n",
       "    <tr>\n",
       "      <th>2</th>\n",
       "      <td>1962-01-04</td>\n",
       "      <td>0.6201</td>\n",
       "      <td>0.6201</td>\n",
       "      <td>0.6037</td>\n",
       "      <td>0.6122</td>\n",
       "      <td>2194010</td>\n",
       "      <td>0</td>\n",
       "    </tr>\n",
       "    <tr>\n",
       "      <th>3</th>\n",
       "      <td>1962-01-05</td>\n",
       "      <td>0.6122</td>\n",
       "      <td>0.6122</td>\n",
       "      <td>0.5798</td>\n",
       "      <td>0.5957</td>\n",
       "      <td>3255244</td>\n",
       "      <td>0</td>\n",
       "    </tr>\n",
       "    <tr>\n",
       "      <th>4</th>\n",
       "      <td>1962-01-08</td>\n",
       "      <td>0.5957</td>\n",
       "      <td>0.5957</td>\n",
       "      <td>0.5716</td>\n",
       "      <td>0.5957</td>\n",
       "      <td>3696430</td>\n",
       "      <td>0</td>\n",
       "    </tr>\n",
       "  </tbody>\n",
       "</table>\n",
       "</div>"
      ],
      "text/plain": [
       "         Date    Open    High     Low   Close   Volume  OpenInt\n",
       "0  1962-01-02  0.6277  0.6362  0.6201  0.6201  2575579        0\n",
       "1  1962-01-03  0.6201  0.6201  0.6122  0.6201  1764749        0\n",
       "2  1962-01-04  0.6201  0.6201  0.6037  0.6122  2194010        0\n",
       "3  1962-01-05  0.6122  0.6122  0.5798  0.5957  3255244        0\n",
       "4  1962-01-08  0.5957  0.5957  0.5716  0.5957  3696430        0"
      ]
     },
     "execution_count": 3,
     "metadata": {},
     "output_type": "execute_result"
    }
   ],
   "source": [
    "df.head()"
   ]
  },
  {
   "cell_type": "code",
   "execution_count": 4,
   "metadata": {},
   "outputs": [
    {
     "name": "stdout",
     "output_type": "stream",
     "text": [
      "<class 'pandas.core.frame.DataFrame'>\n",
      "RangeIndex: 14058 entries, 0 to 14057\n",
      "Data columns (total 7 columns):\n",
      " #   Column   Non-Null Count  Dtype  \n",
      "---  ------   --------------  -----  \n",
      " 0   Date     14058 non-null  object \n",
      " 1   Open     14058 non-null  float64\n",
      " 2   High     14058 non-null  float64\n",
      " 3   Low      14058 non-null  float64\n",
      " 4   Close    14058 non-null  float64\n",
      " 5   Volume   14058 non-null  int64  \n",
      " 6   OpenInt  14058 non-null  int64  \n",
      "dtypes: float64(4), int64(2), object(1)\n",
      "memory usage: 768.9+ KB\n"
     ]
    }
   ],
   "source": [
    "df.info()"
   ]
  },
  {
   "cell_type": "code",
   "execution_count": 5,
   "metadata": {},
   "outputs": [
    {
     "data": {
      "image/png": "[encoded data removed]",
      "text/plain": [
       "<Figure size 1008x432 with 1 Axes>"
      ]
     },
     "metadata": {
      "needs_background": "light"
     },
     "output_type": "display_data"
    }
   ],
   "source": [
    "df[['Open', 'High', 'Low', 'Close']].plot(figsize = (14, 6))\n",
    "plt.xlabel('days')\n",
    "plt.ylabel('Price(USD)')\n",
    "plt.show()"
   ]
  },
  {
   "cell_type": "code",
   "execution_count": 6,
   "metadata": {},
   "outputs": [
    {
     "data": {
      "image/png": "[encoded data removed]",
      "text/plain": [
       "<Figure size 1008x432 with 1 Axes>"
      ]
     },
     "metadata": {
      "needs_background": "light"
     },
     "output_type": "display_data"
    }
   ],
   "source": [
    "df['Volume'].plot(figsize = (14, 6))\n",
    "plt.title('GE stock volume history')\n",
    "plt.ylabel('Volume')\n",
    "plt.xlabel('Days')\n",
    "plt.show()"
   ]
  },
  {
   "cell_type": "markdown",
   "metadata": {},
   "source": [
    "- 12000 이전에는 surge가 별로 없다가 12000 부근에서 거래량이 급격하다.  \n",
    "- 이 당시에 주가는 급락했다.  \n",
    "- 당시의 뉴스기사를 살펴보면 좋을 듯 하다."
   ]
  },
  {
   "cell_type": "markdown",
   "metadata": {},
   "source": [
    "결측치 확인"
   ]
  },
  {
   "cell_type": "code",
   "execution_count": 7,
   "metadata": {},
   "outputs": [
    {
     "name": "stdout",
     "output_type": "stream",
     "text": [
      "checking if any null values are present\n",
      " Date       0\n",
      "Open       0\n",
      "High       0\n",
      "Low        0\n",
      "Close      0\n",
      "Volume     0\n",
      "OpenInt    0\n",
      "dtype: int64\n"
     ]
    }
   ],
   "source": [
    "print(\"checking if any null values are present\\n\", df.isna().sum())"
   ]
  },
  {
   "cell_type": "markdown",
   "metadata": {},
   "source": [
    "### 2. 전처리"
   ]
  },
  {
   "cell_type": "markdown",
   "metadata": {},
   "source": [
    "컬럼선정"
   ]
  },
  {
   "cell_type": "code",
   "execution_count": 8,
   "metadata": {},
   "outputs": [],
   "source": [
    "df = df[['Open', 'High', 'Low', 'Close', 'Volume']]"
   ]
  },
  {
   "cell_type": "markdown",
   "metadata": {},
   "source": [
    "학습/ 시험용 데이터 나누기"
   ]
  },
  {
   "cell_type": "code",
   "execution_count": 9,
   "metadata": {},
   "outputs": [],
   "source": [
    "from sklearn.model_selection import train_test_split"
   ]
  },
  {
   "cell_type": "code",
   "execution_count": 10,
   "metadata": {},
   "outputs": [],
   "source": [
    "train, test = train_test_split(df, test_size = 0.2, shuffle = False)"
   ]
  },
  {
   "cell_type": "code",
   "execution_count": 11,
   "metadata": {},
   "outputs": [
    {
     "data": {
      "text/html": [
       "<div>\n",
       "<style scoped>\n",
       "    .dataframe tbody tr th:only-of-type {\n",
       "        vertical-align: middle;\n",
       "    }\n",
       "\n",
       "    .dataframe tbody tr th {\n",
       "        vertical-align: top;\n",
       "    }\n",
       "\n",
       "    .dataframe thead th {\n",
       "        text-align: right;\n",
       "    }\n",
       "</style>\n",
       "<table border=\"1\" class=\"dataframe\">\n",
       "  <thead>\n",
       "    <tr style=\"text-align: right;\">\n",
       "      <th></th>\n",
       "      <th>Open</th>\n",
       "      <th>High</th>\n",
       "      <th>Low</th>\n",
       "      <th>Close</th>\n",
       "      <th>Volume</th>\n",
       "    </tr>\n",
       "  </thead>\n",
       "  <tbody>\n",
       "    <tr>\n",
       "      <th>0</th>\n",
       "      <td>0.6277</td>\n",
       "      <td>0.6362</td>\n",
       "      <td>0.6201</td>\n",
       "      <td>0.6201</td>\n",
       "      <td>2575579</td>\n",
       "    </tr>\n",
       "    <tr>\n",
       "      <th>1</th>\n",
       "      <td>0.6201</td>\n",
       "      <td>0.6201</td>\n",
       "      <td>0.6122</td>\n",
       "      <td>0.6201</td>\n",
       "      <td>1764749</td>\n",
       "    </tr>\n",
       "    <tr>\n",
       "      <th>2</th>\n",
       "      <td>0.6201</td>\n",
       "      <td>0.6201</td>\n",
       "      <td>0.6037</td>\n",
       "      <td>0.6122</td>\n",
       "      <td>2194010</td>\n",
       "    </tr>\n",
       "    <tr>\n",
       "      <th>3</th>\n",
       "      <td>0.6122</td>\n",
       "      <td>0.6122</td>\n",
       "      <td>0.5798</td>\n",
       "      <td>0.5957</td>\n",
       "      <td>3255244</td>\n",
       "    </tr>\n",
       "    <tr>\n",
       "      <th>4</th>\n",
       "      <td>0.5957</td>\n",
       "      <td>0.5957</td>\n",
       "      <td>0.5716</td>\n",
       "      <td>0.5957</td>\n",
       "      <td>3696430</td>\n",
       "    </tr>\n",
       "  </tbody>\n",
       "</table>\n",
       "</div>"
      ],
      "text/plain": [
       "     Open    High     Low   Close   Volume\n",
       "0  0.6277  0.6362  0.6201  0.6201  2575579\n",
       "1  0.6201  0.6201  0.6122  0.6201  1764749\n",
       "2  0.6201  0.6201  0.6037  0.6122  2194010\n",
       "3  0.6122  0.6122  0.5798  0.5957  3255244\n",
       "4  0.5957  0.5957  0.5716  0.5957  3696430"
      ]
     },
     "execution_count": 11,
     "metadata": {},
     "output_type": "execute_result"
    }
   ],
   "source": [
    "train.head()"
   ]
  },
  {
   "cell_type": "code",
   "execution_count": 12,
   "metadata": {},
   "outputs": [
    {
     "data": {
      "text/html": [
       "<div>\n",
       "<style scoped>\n",
       "    .dataframe tbody tr th:only-of-type {\n",
       "        vertical-align: middle;\n",
       "    }\n",
       "\n",
       "    .dataframe tbody tr th {\n",
       "        vertical-align: top;\n",
       "    }\n",
       "\n",
       "    .dataframe thead th {\n",
       "        text-align: right;\n",
       "    }\n",
       "</style>\n",
       "<table border=\"1\" class=\"dataframe\">\n",
       "  <thead>\n",
       "    <tr style=\"text-align: right;\">\n",
       "      <th></th>\n",
       "      <th>Open</th>\n",
       "      <th>High</th>\n",
       "      <th>Low</th>\n",
       "      <th>Close</th>\n",
       "      <th>Volume</th>\n",
       "    </tr>\n",
       "  </thead>\n",
       "  <tbody>\n",
       "    <tr>\n",
       "      <th>11246</th>\n",
       "      <td>27.935</td>\n",
       "      <td>28.049</td>\n",
       "      <td>27.769</td>\n",
       "      <td>28.049</td>\n",
       "      <td>33326250</td>\n",
       "    </tr>\n",
       "    <tr>\n",
       "      <th>11247</th>\n",
       "      <td>27.814</td>\n",
       "      <td>28.066</td>\n",
       "      <td>27.776</td>\n",
       "      <td>28.003</td>\n",
       "      <td>25448731</td>\n",
       "    </tr>\n",
       "    <tr>\n",
       "      <th>11248</th>\n",
       "      <td>28.099</td>\n",
       "      <td>28.178</td>\n",
       "      <td>27.953</td>\n",
       "      <td>28.058</td>\n",
       "      <td>41464854</td>\n",
       "    </tr>\n",
       "    <tr>\n",
       "      <th>11249</th>\n",
       "      <td>27.896</td>\n",
       "      <td>28.146</td>\n",
       "      <td>27.867</td>\n",
       "      <td>28.073</td>\n",
       "      <td>28423137</td>\n",
       "    </tr>\n",
       "    <tr>\n",
       "      <th>11250</th>\n",
       "      <td>28.066</td>\n",
       "      <td>28.066</td>\n",
       "      <td>27.858</td>\n",
       "      <td>28.058</td>\n",
       "      <td>23181436</td>\n",
       "    </tr>\n",
       "  </tbody>\n",
       "</table>\n",
       "</div>"
      ],
      "text/plain": [
       "         Open    High     Low   Close    Volume\n",
       "11246  27.935  28.049  27.769  28.049  33326250\n",
       "11247  27.814  28.066  27.776  28.003  25448731\n",
       "11248  28.099  28.178  27.953  28.058  41464854\n",
       "11249  27.896  28.146  27.867  28.073  28423137\n",
       "11250  28.066  28.066  27.858  28.058  23181436"
      ]
     },
     "execution_count": 12,
     "metadata": {},
     "output_type": "execute_result"
    }
   ],
   "source": [
    "test.head()"
   ]
  },
  {
   "cell_type": "markdown",
   "metadata": {},
   "source": [
    "스케일링"
   ]
  },
  {
   "cell_type": "code",
   "execution_count": 13,
   "metadata": {},
   "outputs": [],
   "source": [
    "from sklearn.preprocessing import MinMaxScaler"
   ]
  },
  {
   "cell_type": "code",
   "execution_count": 14,
   "metadata": {},
   "outputs": [],
   "source": [
    "scaler = MinMaxScaler()"
   ]
  },
  {
   "cell_type": "code",
   "execution_count": 15,
   "metadata": {},
   "outputs": [],
   "source": [
    "train = scaler.fit_transform(train)\n",
    "test = scaler.transform(test)"
   ]
  },
  {
   "cell_type": "code",
   "execution_count": 16,
   "metadata": {},
   "outputs": [
    {
     "data": {
      "text/plain": [
       "array([[0.00356678, 0.00352766, 0.00358385, 0.00338425, 0.02108267],\n",
       "       [0.00340607, 0.00319219, 0.00341628, 0.00338425, 0.01365459],\n",
       "       [0.00340607, 0.00319219, 0.00323598, 0.00321827, 0.01758709],\n",
       "       [0.00323903, 0.00302758, 0.00272904, 0.00287161, 0.02730914],\n",
       "       [0.00289013, 0.00268378, 0.0025551 , 0.00287161, 0.03135089]])"
      ]
     },
     "execution_count": 16,
     "metadata": {},
     "output_type": "execute_result"
    }
   ],
   "source": [
    "train[:5]"
   ]
  },
  {
   "cell_type": "code",
   "execution_count": 17,
   "metadata": {},
   "outputs": [
    {
     "data": {
      "text/plain": [
       "array([[0.58098604, 0.57472167, 0.57944514, 0.57965821, 0.30279224],\n",
       "       [0.57842746, 0.5750759 , 0.57959362, 0.57869176, 0.2306256 ],\n",
       "       [0.58445385, 0.57740962, 0.583348  , 0.57984729, 0.3773507 ],\n",
       "       [0.58016137, 0.57674284, 0.58152384, 0.58016244, 0.2578744 ],\n",
       "       [0.58375606, 0.5750759 , 0.58133294, 0.57984729, 0.20985472]])"
      ]
     },
     "execution_count": 17,
     "metadata": {},
     "output_type": "execute_result"
    }
   ],
   "source": [
    "test[:5]"
   ]
  },
  {
   "cell_type": "code",
   "execution_count": 18,
   "metadata": {},
   "outputs": [
    {
     "name": "stdout",
     "output_type": "stream",
     "text": [
      "Are any NaNs present in train/test matrices? False False\n"
     ]
    }
   ],
   "source": [
    "print(\"Are any NaNs present in train/test matrices?\",np.isnan(train).any(), np.isnan(test).any())"
   ]
  },
  {
   "cell_type": "markdown",
   "metadata": {},
   "source": [
    "LSTM용 데이터셋 만들기 : [ batch_size, time_steps, Features ]"
   ]
  },
  {
   "cell_type": "markdown",
   "metadata": {},
   "source": [
    "<img src = 'https://miro.medium.com/max/700/1*bY3O4LR2IpgqwwFXHDmTbA.png' width = 400>"
   ]
  },
  {
   "cell_type": "code",
   "execution_count": 19,
   "metadata": {},
   "outputs": [],
   "source": [
    "params = {\n",
    "    \"batch_size\": 20,  # 20<16<10, 25 was a bust\n",
    "    \"epochs\": 300,\n",
    "    \"lr\": 0.00010000,\n",
    "    \"time_steps\": 60\n",
    "}"
   ]
  },
  {
   "cell_type": "code",
   "execution_count": 20,
   "metadata": {},
   "outputs": [],
   "source": [
    "TIME_STEPS = params[\"time_steps\"]\n",
    "BATCH_SIZE = params[\"batch_size\"]"
   ]
  },
  {
   "cell_type": "code",
   "execution_count": 21,
   "metadata": {},
   "outputs": [],
   "source": [
    "from tqdm._tqdm_notebook import tqdm_notebook"
   ]
  },
  {
   "cell_type": "code",
   "execution_count": 22,
   "metadata": {},
   "outputs": [],
   "source": [
    "def build_timeseries(mat, y_col_index):\n",
    "    \"\"\"\n",
    "    Converts ndarray into timeseries format and supervised data format. Takes first TIME_STEPS\n",
    "    number of rows as input and sets the TIME_STEPS+1th data as corresponding output and so on.\n",
    "    :param mat: ndarray which holds the dataset\n",
    "    :param y_col_index: index of column which acts as output\n",
    "    :return: returns two ndarrays-- input and output in format suitable to feed\n",
    "    to LSTM.\n",
    "    \"\"\"\n",
    "    # total number of time-series samples would be len(mat) - TIME_STEPS\n",
    "    dim_0 = mat.shape[0] - TIME_STEPS\n",
    "    dim_1 = mat.shape[1]\n",
    "    x = np.zeros((dim_0, TIME_STEPS, dim_1))\n",
    "    y = np.zeros((dim_0,))\n",
    "    print(\"dim_0\",dim_0)\n",
    "    for i in tqdm_notebook(range(dim_0)):\n",
    "        x[i] = mat[i:TIME_STEPS+i]\n",
    "        y[i] = mat[TIME_STEPS+i, y_col_index]\n",
    "#         if i < 10:\n",
    "#           print(i,\"-->\", x[i,-1,:], y[i])\n",
    "    print(\"length of time-series i/o\",x.shape,y.shape)\n",
    "    return x, y"
   ]
  },
  {
   "cell_type": "code",
   "execution_count": 23,
   "metadata": {},
   "outputs": [
    {
     "name": "stdout",
     "output_type": "stream",
     "text": [
      "dim_0 11186\n"
     ]
    },
    {
     "data": {
      "application/vnd.jupyter.widget-view+json": {
       "model_id": "7f7d969a7242480b9ca772c6a9cff302",
       "version_major": 2,
       "version_minor": 0
      },
      "text/plain": [
       "HBox(children=(FloatProgress(value=0.0, max=11186.0), HTML(value='')))"
      ]
     },
     "metadata": {},
     "output_type": "display_data"
    },
    {
     "name": "stdout",
     "output_type": "stream",
     "text": [
      "\n",
      "length of time-series i/o (11186, 60, 5) (11186,)\n"
     ]
    }
   ],
   "source": [
    "X_train, y_train = build_timeseries(train, 3)"
   ]
  },
  {
   "cell_type": "markdown",
   "metadata": {},
   "source": [
    "- timestep이 60임"
   ]
  },
  {
   "cell_type": "code",
   "execution_count": 24,
   "metadata": {
    "scrolled": true
   },
   "outputs": [
    {
     "data": {
      "text/plain": [
       "array([[0.00356678, 0.00352766, 0.00358385, 0.00338425, 0.02108267],\n",
       "       [0.00340607, 0.00319219, 0.00341628, 0.00338425, 0.01365459],\n",
       "       [0.00340607, 0.00319219, 0.00323598, 0.00321827, 0.01758709],\n",
       "       [0.00323903, 0.00302758, 0.00272904, 0.00287161, 0.02730914],\n",
       "       [0.00289013, 0.00268378, 0.0025551 , 0.00287161, 0.03135089],\n",
       "       [0.00289013, 0.00285047, 0.00289873, 0.00287161, 0.02293968],\n",
       "       [0.00289013, 0.00285047, 0.00306629, 0.00287161, 0.01889791],\n",
       "       [0.00289013, 0.00268378, 0.00289873, 0.00287161, 0.01529311],\n",
       "       [0.00289013, 0.00285047, 0.00289873, 0.00270563, 0.01594855],\n",
       "       [0.00289013, 0.00268378, 0.00306629, 0.00287161, 0.02064569],\n",
       "       [0.00289013, 0.00285047, 0.00306629, 0.00303969, 0.01267147],\n",
       "       [0.00305929, 0.00285047, 0.00289873, 0.00270563, 0.02086418],\n",
       "       [0.00272308, 0.00268378, 0.00289873, 0.00287161, 0.01365459],\n",
       "       [0.00289013, 0.00285047, 0.00306629, 0.00303969, 0.01201608],\n",
       "       [0.00305929, 0.00302758, 0.00323598, 0.00303969, 0.01299918],\n",
       "       [0.00305929, 0.00285047, 0.00289873, 0.00270563, 0.02239349],\n",
       "       [0.00272308, 0.00285047, 0.00289873, 0.00303969, 0.01496542],\n",
       "       [0.00305929, 0.00285047, 0.00306629, 0.00287161, 0.01485617],\n",
       "       [0.00289013, 0.00268378, 0.00306629, 0.00287161, 0.00852047],\n",
       "       [0.00289013, 0.00268378, 0.00306629, 0.00287161, 0.00862967],\n",
       "       [0.00305929, 0.00302758, 0.00323598, 0.00303969, 0.01693168],\n",
       "       [0.00305929, 0.00335055, 0.00323598, 0.00354392, 0.01802403],\n",
       "       [0.00356678, 0.00335055, 0.00341628, 0.00338425, 0.02556137],\n",
       "       [0.00340607, 0.00319219, 0.00358385, 0.00338425, 0.01365459],\n",
       "       [0.00340607, 0.00319219, 0.00341628, 0.00321827, 0.01288992],\n",
       "       [0.00323903, 0.00319219, 0.00341628, 0.00338425, 0.00884813],\n",
       "       [0.00340607, 0.00335055, 0.00358385, 0.00354392, 0.01594855],\n",
       "       [0.00356678, 0.00335055, 0.00358385, 0.00354392, 0.01671321],\n",
       "       [0.00356678, 0.00335055, 0.00358385, 0.00354392, 0.0139823 ],\n",
       "       [0.00356678, 0.00335055, 0.00358385, 0.00354392, 0.00644495],\n",
       "       [0.00356678, 0.00352766, 0.00374505, 0.00372251, 0.01070521],\n",
       "       [0.00374651, 0.00369436, 0.00392535, 0.00372251, 0.0151839 ],\n",
       "       [0.00374651, 0.00385688, 0.00392535, 0.00389058, 0.01791481],\n",
       "       [0.00391567, 0.00385688, 0.00392535, 0.00389058, 0.02304894],\n",
       "       [0.00391567, 0.00369436, 0.00392535, 0.00372251, 0.01452849],\n",
       "       [0.00374651, 0.00352766, 0.00374505, 0.00372251, 0.00917587],\n",
       "       [0.00374651, 0.00369436, 0.00374505, 0.00372251, 0.00928509],\n",
       "       [0.00374651, 0.00352766, 0.00374505, 0.00354392, 0.01529311],\n",
       "       [0.00356678, 0.00335055, 0.00341628, 0.00338425, 0.01125137],\n",
       "       [0.00340607, 0.00335055, 0.00358385, 0.00354392, 0.00764657],\n",
       "       [0.00356678, 0.00335055, 0.00358385, 0.00338425, 0.01562084],\n",
       "       [0.00356678, 0.00352766, 0.00374505, 0.00372251, 0.0074281 ],\n",
       "       [0.00374651, 0.00369436, 0.00392535, 0.00372251, 0.01125137],\n",
       "       [0.00374651, 0.00369436, 0.00392535, 0.00372251, 0.01267147],\n",
       "       [0.00374651, 0.00352766, 0.00374505, 0.00354392, 0.00775579],\n",
       "       [0.00356678, 0.00352766, 0.00374505, 0.00372251, 0.00852047],\n",
       "       [0.00374651, 0.00369436, 0.00374505, 0.00389058, 0.01682244],\n",
       "       [0.00391567, 0.00385688, 0.00409504, 0.00405446, 0.01911641],\n",
       "       [0.00408061, 0.00385688, 0.00426049, 0.00405446, 0.02053646],\n",
       "       [0.00408061, 0.00385688, 0.00409504, 0.00405446, 0.01157909],\n",
       "       [0.00408061, 0.00385688, 0.00409504, 0.00389058, 0.00939436],\n",
       "       [0.00391567, 0.00385688, 0.00409504, 0.00405446, 0.0181333 ],\n",
       "       [0.00408061, 0.00385688, 0.00426049, 0.00405446, 0.00884813],\n",
       "       [0.00408061, 0.00385688, 0.00409504, 0.00389058, 0.00961282],\n",
       "       [0.00391567, 0.00369436, 0.00409504, 0.00389058, 0.00677266],\n",
       "       [0.00391567, 0.00369436, 0.00409504, 0.00389058, 0.01507466],\n",
       "       [0.00391567, 0.00369436, 0.00409504, 0.00389058, 0.00862967],\n",
       "       [0.00391567, 0.00385688, 0.00409504, 0.00405446, 0.01146985],\n",
       "       [0.00408061, 0.00385688, 0.00392535, 0.00372251, 0.01015901],\n",
       "       [0.00374651, 0.00369436, 0.00392535, 0.00389058, 0.01114216]])"
      ]
     },
     "execution_count": 24,
     "metadata": {},
     "output_type": "execute_result"
    }
   ],
   "source": [
    "X_train[0]"
   ]
  },
  {
   "cell_type": "code",
   "execution_count": 25,
   "metadata": {},
   "outputs": [
    {
     "data": {
      "text/plain": [
       "0.00405445891735148"
      ]
     },
     "execution_count": 25,
     "metadata": {},
     "output_type": "execute_result"
    }
   ],
   "source": [
    "y_train[0]"
   ]
  },
  {
   "cell_type": "code",
   "execution_count": 26,
   "metadata": {},
   "outputs": [
    {
     "data": {
      "text/plain": [
       "array([0.00391567, 0.00385688, 0.00409504, 0.00405446, 0.01201608])"
      ]
     },
     "execution_count": 26,
     "metadata": {},
     "output_type": "execute_result"
    }
   ],
   "source": [
    "train[60]"
   ]
  },
  {
   "cell_type": "markdown",
   "metadata": {},
   "source": [
    "- train의 4번째 값(close) 부터 반영된 것 확인"
   ]
  },
  {
   "cell_type": "markdown",
   "metadata": {},
   "source": [
    "데이터를 다시 배치로 나누어지도록 처리  \n",
    "- 데이터가 배치단위(여기서는 20)로 나누어 떨어지도록 처리한다."
   ]
  },
  {
   "cell_type": "code",
   "execution_count": 27,
   "metadata": {},
   "outputs": [],
   "source": [
    "def trim_dataset(mat,batch_size):\n",
    "    \"\"\"\n",
    "    trims dataset to a size that's divisible by BATCH_SIZE\n",
    "    \"\"\"\n",
    "    no_of_rows_drop = mat.shape[0]%batch_size\n",
    "    if no_of_rows_drop > 0:\n",
    "        return mat[:-no_of_rows_drop]\n",
    "    else:\n",
    "        return mat"
   ]
  },
  {
   "cell_type": "code",
   "execution_count": 28,
   "metadata": {},
   "outputs": [],
   "source": [
    "X_train = trim_dataset(X_train, BATCH_SIZE)\n",
    "y_train = trim_dataset(y_train, BATCH_SIZE)"
   ]
  },
  {
   "cell_type": "code",
   "execution_count": 29,
   "metadata": {},
   "outputs": [
    {
     "data": {
      "text/plain": [
       "(11180, 60, 5)"
      ]
     },
     "execution_count": 29,
     "metadata": {},
     "output_type": "execute_result"
    }
   ],
   "source": [
    "X_train.shape"
   ]
  },
  {
   "cell_type": "code",
   "execution_count": 30,
   "metadata": {},
   "outputs": [
    {
     "data": {
      "text/plain": [
       "(11180,)"
      ]
     },
     "execution_count": 30,
     "metadata": {},
     "output_type": "execute_result"
    }
   ],
   "source": [
    "y_train.shape"
   ]
  },
  {
   "cell_type": "markdown",
   "metadata": {},
   "source": [
    "시험용/ 검증용 데이터셋 만들기"
   ]
  },
  {
   "cell_type": "code",
   "execution_count": 31,
   "metadata": {},
   "outputs": [
    {
     "name": "stdout",
     "output_type": "stream",
     "text": [
      "dim_0 2752\n"
     ]
    },
    {
     "data": {
      "application/vnd.jupyter.widget-view+json": {
       "model_id": "2e5f8f1c25124ee5a87c73f724f9fc33",
       "version_major": 2,
       "version_minor": 0
      },
      "text/plain": [
       "HBox(children=(FloatProgress(value=0.0, max=2752.0), HTML(value='')))"
      ]
     },
     "metadata": {},
     "output_type": "display_data"
    },
    {
     "name": "stdout",
     "output_type": "stream",
     "text": [
      "\n",
      "length of time-series i/o (2752, 60, 5) (2752,)\n"
     ]
    }
   ],
   "source": [
    "X_temp, y_temp = build_timeseries(test, 3)\n",
    "X_val, X_test = np.split(trim_dataset(X_temp, BATCH_SIZE),2)\n",
    "y_val, y_test = np.split(trim_dataset(y_temp, BATCH_SIZE),2)"
   ]
  },
  {
   "cell_type": "code",
   "execution_count": 32,
   "metadata": {},
   "outputs": [
    {
     "data": {
      "text/plain": [
       "(1370, 60, 5)"
      ]
     },
     "execution_count": 32,
     "metadata": {},
     "output_type": "execute_result"
    }
   ],
   "source": [
    "X_val.shape"
   ]
  },
  {
   "cell_type": "code",
   "execution_count": 33,
   "metadata": {},
   "outputs": [
    {
     "data": {
      "text/plain": [
       "(1370, 60, 5)"
      ]
     },
     "execution_count": 33,
     "metadata": {},
     "output_type": "execute_result"
    }
   ],
   "source": [
    "X_test.shape"
   ]
  },
  {
   "cell_type": "code",
   "execution_count": 34,
   "metadata": {},
   "outputs": [
    {
     "data": {
      "text/plain": [
       "(1370,)"
      ]
     },
     "execution_count": 34,
     "metadata": {},
     "output_type": "execute_result"
    }
   ],
   "source": [
    "y_val.shape"
   ]
  },
  {
   "cell_type": "code",
   "execution_count": 35,
   "metadata": {},
   "outputs": [
    {
     "data": {
      "text/plain": [
       "(1370,)"
      ]
     },
     "execution_count": 35,
     "metadata": {},
     "output_type": "execute_result"
    }
   ],
   "source": [
    "y_test.shape"
   ]
  },
  {
   "cell_type": "markdown",
   "metadata": {},
   "source": [
    "### 3. 모델 만들기"
   ]
  },
  {
   "cell_type": "code",
   "execution_count": 36,
   "metadata": {},
   "outputs": [],
   "source": [
    "from tensorflow.keras.models import Sequential\n",
    "from tensorflow.keras.layers import LSTM, Dropout, Dense\n",
    "from tensorflow.keras.optimizers import RMSprop"
   ]
  },
  {
   "cell_type": "code",
   "execution_count": 37,
   "metadata": {},
   "outputs": [],
   "source": [
    "import time"
   ]
  },
  {
   "cell_type": "code",
   "execution_count": 38,
   "metadata": {},
   "outputs": [],
   "source": [
    "model = Sequential()\n",
    "model.add(LSTM(units=100, batch_input_shape = (BATCH_SIZE, TIME_STEPS,\n",
    "                                              X_train.shape[2]),\n",
    "              dropout = 0.0, recurrent_dropout=0.0, stateful = True, \n",
    "              return_sequences=True, kernel_initializer='random_uniform'))\n",
    "model.add(Dropout(0.4))\n",
    "model.add(LSTM(units=60, dropout=0.0))\n",
    "model.add(Dropout(0.4))\n",
    "model.add(Dense(20, activation = 'relu'))\n",
    "model.add(Dense(1, activation = 'sigmoid'))"
   ]
  },
  {
   "cell_type": "code",
   "execution_count": 39,
   "metadata": {},
   "outputs": [],
   "source": [
    "optimizer = RMSprop(lr=params[\"lr\"])\n",
    "model.compile(loss = 'mse', optimizer= optimizer)"
   ]
  },
  {
   "cell_type": "code",
   "execution_count": 40,
   "metadata": {},
   "outputs": [],
   "source": [
    "from tensorflow.keras.callbacks import ModelCheckpoint, EarlyStopping, ReduceLROnPlateau, CSVLogger"
   ]
  },
  {
   "cell_type": "code",
   "execution_count": 41,
   "metadata": {},
   "outputs": [
    {
     "name": "stdout",
     "output_type": "stream",
     "text": [
      "WARNING:tensorflow:`period` argument is deprecated. Please use `save_freq` to specify the frequency in number of batches seen.\n"
     ]
    }
   ],
   "source": [
    "es = EarlyStopping(monitor='val_loss', mode='min', verbose=1,\n",
    "                       patience=40, min_delta=0.0001)\n",
    "    \n",
    "mcp = ModelCheckpoint(\"best_model.h5\", monitor='val_loss', verbose=1,\n",
    "                          save_best_only=True, save_weights_only=False, mode='min', period=1)"
   ]
  },
  {
   "cell_type": "code",
   "execution_count": 42,
   "metadata": {},
   "outputs": [],
   "source": [
    "csv_logger = CSVLogger('training_log_' + time.ctime().replace(\" \",\"_\") + '.log', \n",
    "                       append=True)"
   ]
  },
  {
   "cell_type": "code",
   "execution_count": 43,
   "metadata": {
    "scrolled": true
   },
   "outputs": [
    {
     "name": "stdout",
     "output_type": "stream",
     "text": [
      "WARNING:tensorflow:Automatic model reloading for interrupted job was removed from the `ModelCheckpoint` callback in multi-worker mode, please use the `keras.callbacks.experimental.BackupAndRestore` callback instead. See this tutorial for details: https://www.tensorflow.org/tutorials/distribute/multi_worker_with_keras#backupandrestore_callback.\n",
      "Epoch 1/300\n",
      "\n",
      "Epoch 00001: val_loss improved from inf to 0.03306, saving model to best_model.h5\n",
      "559/559 - 9s - loss: 0.0178 - val_loss: 0.0331\n",
      "Epoch 2/300\n",
      "\n",
      "Epoch 00002: val_loss improved from 0.03306 to 0.00454, saving model to best_model.h5\n",
      "559/559 - 3s - loss: 0.0063 - val_loss: 0.0045\n",
      "Epoch 3/300\n",
      "\n",
      "Epoch 00003: val_loss improved from 0.00454 to 0.00309, saving model to best_model.h5\n",
      "559/559 - 3s - loss: 0.0022 - val_loss: 0.0031\n",
      "Epoch 4/300\n",
      "\n",
      "Epoch 00004: val_loss did not improve from 0.00309\n",
      "559/559 - 3s - loss: 0.0018 - val_loss: 0.0032\n",
      "Epoch 5/300\n",
      "\n",
      "Epoch 00005: val_loss improved from 0.00309 to 0.00285, saving model to best_model.h5\n",
      "559/559 - 3s - loss: 0.0017 - val_loss: 0.0028\n",
      "Epoch 6/300\n",
      "\n",
      "Epoch 00006: val_loss improved from 0.00285 to 0.00208, saving model to best_model.h5\n",
      "559/559 - 3s - loss: 0.0015 - val_loss: 0.0021\n",
      "Epoch 7/300\n",
      "\n",
      "Epoch 00007: val_loss improved from 0.00208 to 0.00175, saving model to best_model.h5\n",
      "559/559 - 3s - loss: 0.0013 - val_loss: 0.0017\n",
      "Epoch 8/300\n",
      "\n",
      "Epoch 00008: val_loss did not improve from 0.00175\n",
      "559/559 - 3s - loss: 0.0012 - val_loss: 0.0018\n",
      "Epoch 9/300\n",
      "\n",
      "Epoch 00009: val_loss improved from 0.00175 to 0.00148, saving model to best_model.h5\n",
      "559/559 - 4s - loss: 0.0011 - val_loss: 0.0015\n",
      "Epoch 10/300\n",
      "\n",
      "Epoch 00010: val_loss improved from 0.00148 to 0.00141, saving model to best_model.h5\n",
      "559/559 - 3s - loss: 0.0011 - val_loss: 0.0014\n",
      "Epoch 11/300\n",
      "\n",
      "Epoch 00011: val_loss improved from 0.00141 to 0.00122, saving model to best_model.h5\n",
      "559/559 - 3s - loss: 0.0010 - val_loss: 0.0012\n",
      "Epoch 12/300\n",
      "\n",
      "Epoch 00012: val_loss did not improve from 0.00122\n",
      "559/559 - 3s - loss: 9.7574e-04 - val_loss: 0.0014\n",
      "Epoch 13/300\n",
      "\n",
      "Epoch 00013: val_loss did not improve from 0.00122\n",
      "559/559 - 3s - loss: 9.8374e-04 - val_loss: 0.0014\n",
      "Epoch 14/300\n",
      "\n",
      "Epoch 00014: val_loss did not improve from 0.00122\n",
      "559/559 - 3s - loss: 9.4346e-04 - val_loss: 0.0014\n",
      "Epoch 15/300\n",
      "\n",
      "Epoch 00015: val_loss did not improve from 0.00122\n",
      "559/559 - 3s - loss: 9.1927e-04 - val_loss: 0.0013\n",
      "Epoch 16/300\n",
      "\n",
      "Epoch 00016: val_loss did not improve from 0.00122\n",
      "559/559 - 3s - loss: 9.0062e-04 - val_loss: 0.0013\n",
      "Epoch 17/300\n",
      "\n",
      "Epoch 00017: val_loss did not improve from 0.00122\n",
      "559/559 - 3s - loss: 8.5639e-04 - val_loss: 0.0014\n",
      "Epoch 18/300\n",
      "\n",
      "Epoch 00018: val_loss did not improve from 0.00122\n",
      "559/559 - 3s - loss: 7.9458e-04 - val_loss: 0.0013\n",
      "Epoch 19/300\n",
      "\n",
      "Epoch 00019: val_loss did not improve from 0.00122\n",
      "559/559 - 3s - loss: 7.6800e-04 - val_loss: 0.0018\n",
      "Epoch 20/300\n",
      "\n",
      "Epoch 00020: val_loss did not improve from 0.00122\n",
      "559/559 - 3s - loss: 7.7963e-04 - val_loss: 0.0018\n",
      "Epoch 21/300\n",
      "\n",
      "Epoch 00021: val_loss did not improve from 0.00122\n",
      "559/559 - 3s - loss: 7.5793e-04 - val_loss: 0.0030\n",
      "Epoch 22/300\n",
      "\n",
      "Epoch 00022: val_loss did not improve from 0.00122\n",
      "559/559 - 3s - loss: 7.3304e-04 - val_loss: 0.0027\n",
      "Epoch 23/300\n",
      "\n",
      "Epoch 00023: val_loss did not improve from 0.00122\n",
      "559/559 - 3s - loss: 7.1875e-04 - val_loss: 0.0033\n",
      "Epoch 24/300\n",
      "\n",
      "Epoch 00024: val_loss did not improve from 0.00122\n",
      "559/559 - 3s - loss: 7.3310e-04 - val_loss: 0.0033\n",
      "Epoch 25/300\n",
      "\n",
      "Epoch 00025: val_loss did not improve from 0.00122\n",
      "559/559 - 3s - loss: 6.7627e-04 - val_loss: 0.0028\n",
      "Epoch 26/300\n",
      "\n",
      "Epoch 00026: val_loss did not improve from 0.00122\n",
      "559/559 - 3s - loss: 6.6748e-04 - val_loss: 0.0034\n",
      "Epoch 27/300\n",
      "\n",
      "Epoch 00027: val_loss did not improve from 0.00122\n",
      "559/559 - 3s - loss: 6.5478e-04 - val_loss: 0.0039\n",
      "Epoch 28/300\n",
      "\n",
      "Epoch 00028: val_loss did not improve from 0.00122\n",
      "559/559 - 3s - loss: 6.3380e-04 - val_loss: 0.0031\n",
      "Epoch 29/300\n",
      "\n",
      "Epoch 00029: val_loss did not improve from 0.00122\n",
      "559/559 - 3s - loss: 6.1174e-04 - val_loss: 0.0038\n",
      "Epoch 30/300\n",
      "\n",
      "Epoch 00030: val_loss did not improve from 0.00122\n",
      "559/559 - 3s - loss: 5.9234e-04 - val_loss: 0.0037\n",
      "Epoch 31/300\n",
      "\n",
      "Epoch 00031: val_loss did not improve from 0.00122\n",
      "559/559 - 3s - loss: 5.9089e-04 - val_loss: 0.0030\n",
      "Epoch 32/300\n",
      "\n",
      "Epoch 00032: val_loss did not improve from 0.00122\n",
      "559/559 - 3s - loss: 5.5746e-04 - val_loss: 0.0031\n",
      "Epoch 33/300\n",
      "\n",
      "Epoch 00033: val_loss did not improve from 0.00122\n",
      "559/559 - 3s - loss: 5.8636e-04 - val_loss: 0.0027\n",
      "Epoch 34/300\n",
      "\n",
      "Epoch 00034: val_loss did not improve from 0.00122\n",
      "559/559 - 3s - loss: 5.6409e-04 - val_loss: 0.0025\n",
      "Epoch 35/300\n",
      "\n",
      "Epoch 00035: val_loss did not improve from 0.00122\n",
      "559/559 - 3s - loss: 5.4117e-04 - val_loss: 0.0021\n",
      "Epoch 36/300\n",
      "\n",
      "Epoch 00036: val_loss did not improve from 0.00122\n",
      "559/559 - 3s - loss: 5.4719e-04 - val_loss: 0.0022\n",
      "Epoch 37/300\n",
      "\n",
      "Epoch 00037: val_loss did not improve from 0.00122\n",
      "559/559 - 3s - loss: 5.3983e-04 - val_loss: 0.0022\n",
      "Epoch 38/300\n",
      "\n",
      "Epoch 00038: val_loss did not improve from 0.00122\n",
      "559/559 - 3s - loss: 5.2903e-04 - val_loss: 0.0018\n",
      "Epoch 39/300\n",
      "\n",
      "Epoch 00039: val_loss did not improve from 0.00122\n",
      "559/559 - 3s - loss: 5.2028e-04 - val_loss: 0.0017\n",
      "Epoch 40/300\n",
      "\n",
      "Epoch 00040: val_loss did not improve from 0.00122\n",
      "559/559 - 3s - loss: 5.0404e-04 - val_loss: 0.0016\n",
      "Epoch 41/300\n",
      "\n",
      "Epoch 00041: val_loss did not improve from 0.00122\n",
      "559/559 - 3s - loss: 5.0835e-04 - val_loss: 0.0013\n",
      "Epoch 42/300\n",
      "\n",
      "Epoch 00042: val_loss did not improve from 0.00122\n",
      "559/559 - 3s - loss: 5.0379e-04 - val_loss: 0.0014\n",
      "Epoch 43/300\n",
      "\n",
      "Epoch 00043: val_loss did not improve from 0.00122\n",
      "559/559 - 3s - loss: 4.9468e-04 - val_loss: 0.0016\n",
      "Epoch 44/300\n",
      "\n",
      "Epoch 00044: val_loss improved from 0.00122 to 0.00119, saving model to best_model.h5\n",
      "559/559 - 3s - loss: 5.1087e-04 - val_loss: 0.0012\n",
      "Epoch 45/300\n",
      "\n",
      "Epoch 00045: val_loss improved from 0.00119 to 0.00115, saving model to best_model.h5\n",
      "559/559 - 3s - loss: 4.9685e-04 - val_loss: 0.0012\n",
      "Epoch 46/300\n",
      "\n",
      "Epoch 00046: val_loss did not improve from 0.00115\n",
      "559/559 - 3s - loss: 5.1680e-04 - val_loss: 0.0013\n",
      "Epoch 47/300\n",
      "\n",
      "Epoch 00047: val_loss did not improve from 0.00115\n",
      "559/559 - 3s - loss: 4.5702e-04 - val_loss: 0.0013\n",
      "Epoch 48/300\n",
      "\n",
      "Epoch 00048: val_loss improved from 0.00115 to 0.00112, saving model to best_model.h5\n",
      "559/559 - 3s - loss: 5.0402e-04 - val_loss: 0.0011\n",
      "Epoch 49/300\n",
      "\n",
      "Epoch 00049: val_loss improved from 0.00112 to 0.00109, saving model to best_model.h5\n",
      "559/559 - 3s - loss: 4.6971e-04 - val_loss: 0.0011\n",
      "Epoch 50/300\n",
      "\n",
      "Epoch 00050: val_loss did not improve from 0.00109\n",
      "559/559 - 3s - loss: 4.7410e-04 - val_loss: 0.0011\n",
      "Epoch 51/300\n",
      "\n",
      "Epoch 00051: val_loss did not improve from 0.00109\n",
      "559/559 - 3s - loss: 4.6560e-04 - val_loss: 0.0012\n",
      "Epoch 52/300\n",
      "\n",
      "Epoch 00052: val_loss did not improve from 0.00109\n",
      "559/559 - 3s - loss: 4.8505e-04 - val_loss: 0.0013\n",
      "Epoch 53/300\n",
      "\n",
      "Epoch 00053: val_loss improved from 0.00109 to 0.00106, saving model to best_model.h5\n",
      "559/559 - 3s - loss: 4.4798e-04 - val_loss: 0.0011\n",
      "Epoch 54/300\n",
      "\n",
      "Epoch 00054: val_loss did not improve from 0.00106\n",
      "559/559 - 3s - loss: 4.5587e-04 - val_loss: 0.0011\n",
      "Epoch 55/300\n",
      "\n",
      "Epoch 00055: val_loss did not improve from 0.00106\n",
      "559/559 - 3s - loss: 4.5916e-04 - val_loss: 0.0012\n",
      "Epoch 56/300\n",
      "\n",
      "Epoch 00056: val_loss did not improve from 0.00106\n",
      "559/559 - 3s - loss: 4.5516e-04 - val_loss: 0.0015\n",
      "Epoch 57/300\n",
      "\n",
      "Epoch 00057: val_loss did not improve from 0.00106\n",
      "559/559 - 3s - loss: 4.2627e-04 - val_loss: 0.0012\n",
      "Epoch 58/300\n",
      "\n",
      "Epoch 00058: val_loss improved from 0.00106 to 0.00105, saving model to best_model.h5\n",
      "559/559 - 3s - loss: 4.5833e-04 - val_loss: 0.0010\n",
      "Epoch 59/300\n",
      "\n",
      "Epoch 00059: val_loss improved from 0.00105 to 0.00099, saving model to best_model.h5\n",
      "559/559 - 3s - loss: 4.3485e-04 - val_loss: 9.8607e-04\n",
      "Epoch 60/300\n",
      "\n",
      "Epoch 00060: val_loss did not improve from 0.00099\n",
      "559/559 - 3s - loss: 4.4820e-04 - val_loss: 0.0012\n",
      "Epoch 61/300\n",
      "\n",
      "Epoch 00061: val_loss did not improve from 0.00099\n",
      "559/559 - 3s - loss: 4.6144e-04 - val_loss: 0.0011\n",
      "Epoch 62/300\n",
      "\n",
      "Epoch 00062: val_loss did not improve from 0.00099\n",
      "559/559 - 3s - loss: 4.2865e-04 - val_loss: 0.0012\n",
      "Epoch 63/300\n",
      "\n",
      "Epoch 00063: val_loss did not improve from 0.00099\n",
      "559/559 - 3s - loss: 4.3579e-04 - val_loss: 0.0011\n",
      "Epoch 64/300\n",
      "\n",
      "Epoch 00064: val_loss did not improve from 0.00099\n",
      "559/559 - 3s - loss: 4.1759e-04 - val_loss: 0.0011\n"
     ]
    },
    {
     "name": "stdout",
     "output_type": "stream",
     "text": [
      "Epoch 65/300\n",
      "\n",
      "Epoch 00065: val_loss did not improve from 0.00099\n",
      "559/559 - 3s - loss: 4.1283e-04 - val_loss: 0.0011\n",
      "Epoch 66/300\n",
      "\n",
      "Epoch 00066: val_loss did not improve from 0.00099\n",
      "559/559 - 3s - loss: 4.3042e-04 - val_loss: 0.0013\n",
      "Epoch 67/300\n",
      "\n",
      "Epoch 00067: val_loss did not improve from 0.00099\n",
      "559/559 - 3s - loss: 4.1510e-04 - val_loss: 0.0011\n",
      "Epoch 68/300\n",
      "\n",
      "Epoch 00068: val_loss did not improve from 0.00099\n",
      "559/559 - 3s - loss: 4.4477e-04 - val_loss: 0.0012\n",
      "Epoch 69/300\n",
      "\n",
      "Epoch 00069: val_loss did not improve from 0.00099\n",
      "559/559 - 3s - loss: 4.2925e-04 - val_loss: 0.0011\n",
      "Epoch 70/300\n",
      "\n",
      "Epoch 00070: val_loss did not improve from 0.00099\n",
      "559/559 - 3s - loss: 4.2599e-04 - val_loss: 0.0013\n",
      "Epoch 71/300\n",
      "\n",
      "Epoch 00071: val_loss did not improve from 0.00099\n",
      "559/559 - 3s - loss: 4.1735e-04 - val_loss: 0.0013\n",
      "Epoch 72/300\n",
      "\n",
      "Epoch 00072: val_loss did not improve from 0.00099\n",
      "559/559 - 3s - loss: 4.1031e-04 - val_loss: 0.0011\n",
      "Epoch 73/300\n",
      "\n",
      "Epoch 00073: val_loss did not improve from 0.00099\n",
      "559/559 - 3s - loss: 4.2888e-04 - val_loss: 0.0012\n",
      "Epoch 74/300\n",
      "\n",
      "Epoch 00074: val_loss did not improve from 0.00099\n",
      "559/559 - 3s - loss: 4.2534e-04 - val_loss: 0.0012\n",
      "Epoch 75/300\n",
      "\n",
      "Epoch 00075: val_loss did not improve from 0.00099\n",
      "559/559 - 3s - loss: 4.1776e-04 - val_loss: 0.0015\n",
      "Epoch 76/300\n",
      "\n",
      "Epoch 00076: val_loss did not improve from 0.00099\n",
      "559/559 - 3s - loss: 4.1680e-04 - val_loss: 0.0013\n",
      "Epoch 77/300\n",
      "\n",
      "Epoch 00077: val_loss did not improve from 0.00099\n",
      "559/559 - 3s - loss: 4.4107e-04 - val_loss: 0.0016\n",
      "Epoch 78/300\n",
      "\n",
      "Epoch 00078: val_loss did not improve from 0.00099\n",
      "559/559 - 3s - loss: 3.9637e-04 - val_loss: 0.0016\n",
      "Epoch 79/300\n",
      "\n",
      "Epoch 00079: val_loss did not improve from 0.00099\n",
      "559/559 - 3s - loss: 4.0917e-04 - val_loss: 0.0018\n",
      "Epoch 80/300\n",
      "\n",
      "Epoch 00080: val_loss did not improve from 0.00099\n",
      "559/559 - 3s - loss: 4.2584e-04 - val_loss: 0.0017\n",
      "Epoch 81/300\n",
      "\n",
      "Epoch 00081: val_loss did not improve from 0.00099\n",
      "559/559 - 3s - loss: 4.0662e-04 - val_loss: 0.0015\n",
      "Epoch 82/300\n",
      "\n",
      "Epoch 00082: val_loss did not improve from 0.00099\n",
      "559/559 - 3s - loss: 4.3511e-04 - val_loss: 0.0018\n",
      "Epoch 83/300\n",
      "\n",
      "Epoch 00083: val_loss did not improve from 0.00099\n",
      "559/559 - 3s - loss: 4.1420e-04 - val_loss: 0.0013\n",
      "Epoch 84/300\n",
      "\n",
      "Epoch 00084: val_loss did not improve from 0.00099\n",
      "559/559 - 3s - loss: 4.3671e-04 - val_loss: 0.0014\n",
      "Epoch 85/300\n",
      "\n",
      "Epoch 00085: val_loss did not improve from 0.00099\n",
      "559/559 - 3s - loss: 4.5384e-04 - val_loss: 0.0015\n",
      "Epoch 86/300\n",
      "\n",
      "Epoch 00086: val_loss did not improve from 0.00099\n",
      "559/559 - 3s - loss: 4.4773e-04 - val_loss: 0.0014\n",
      "Epoch 87/300\n",
      "\n",
      "Epoch 00087: val_loss did not improve from 0.00099\n",
      "559/559 - 3s - loss: 4.2386e-04 - val_loss: 0.0013\n",
      "Epoch 88/300\n",
      "\n",
      "Epoch 00088: val_loss did not improve from 0.00099\n",
      "559/559 - 3s - loss: 4.3303e-04 - val_loss: 0.0016\n",
      "Epoch 89/300\n",
      "\n",
      "Epoch 00089: val_loss did not improve from 0.00099\n",
      "559/559 - 3s - loss: 4.5207e-04 - val_loss: 0.0015\n",
      "Epoch 00089: early stopping\n"
     ]
    }
   ],
   "source": [
    "history = model.fit(X_train, y_train, epochs=params[\"epochs\"], verbose=2, \n",
    "                    batch_size=BATCH_SIZE, shuffle=False, \n",
    "          validation_data=(trim_dataset(X_val, BATCH_SIZE),trim_dataset(y_val, BATCH_SIZE)), \n",
    "                callbacks=[es, mcp])"
   ]
  },
  {
   "cell_type": "markdown",
   "metadata": {},
   "source": [
    "### 5. 모델 저장"
   ]
  },
  {
   "cell_type": "code",
   "execution_count": 44,
   "metadata": {},
   "outputs": [],
   "source": [
    "import pickle"
   ]
  },
  {
   "cell_type": "code",
   "execution_count": 45,
   "metadata": {},
   "outputs": [],
   "source": [
    "# print(\"saving model...\")\n",
    "# pickle.dump(model, open(\"lstm_model\", \"wb\"))"
   ]
  },
  {
   "cell_type": "markdown",
   "metadata": {},
   "source": [
    "### 6. 평가"
   ]
  },
  {
   "cell_type": "code",
   "execution_count": 46,
   "metadata": {},
   "outputs": [
    {
     "data": {
      "image/png": "[encoded data removed]",
      "text/plain": [
       "<Figure size 864x360 with 1 Axes>"
      ]
     },
     "metadata": {
      "needs_background": "light"
     },
     "output_type": "display_data"
    }
   ],
   "source": [
    "plt.figure(figsize = (12, 5))\n",
    "plt.plot(history.history['loss'])\n",
    "plt.plot(history.history['val_loss'])\n",
    "plt.title('Model loss')\n",
    "plt.ylabel('Loss')\n",
    "plt.xlabel('Epoch')\n",
    "plt.legend(['Train', 'Test'], loc='upper left')\n",
    "plt.show()"
   ]
  },
  {
   "cell_type": "code",
   "execution_count": 47,
   "metadata": {},
   "outputs": [],
   "source": [
    "from tensorflow.keras.models import load_model"
   ]
  },
  {
   "cell_type": "code",
   "execution_count": 48,
   "metadata": {},
   "outputs": [
    {
     "name": "stdout",
     "output_type": "stream",
     "text": [
      "<tensorflow.python.keras.engine.sequential.Sequential object at 0x000001BA39FFC288>\n"
     ]
    }
   ],
   "source": [
    "saved_model = load_model('best_model.h5') # , \"lstm_best_7-3-19_12AM\",\n",
    "print(saved_model)"
   ]
  },
  {
   "cell_type": "code",
   "execution_count": 49,
   "metadata": {},
   "outputs": [
    {
     "name": "stdout",
     "output_type": "stream",
     "text": [
      "Error is 0.0011732602543242866 (1360,) (1360,)\n",
      "[0.39366    0.3917437  0.38956487 0.3886603  0.38822374 0.38722318\n",
      " 0.38737303 0.38864836 0.39013112 0.39115724 0.39145312 0.39035773\n",
      " 0.38776705 0.38561952 0.38199177]\n",
      "[0.32378063 0.32499919 0.32800358 0.32905407 0.32905407 0.33031465\n",
      " 0.32943225 0.33205846 0.32659593 0.32747834 0.31770881 0.31092267\n",
      " 0.31258244 0.32378063 0.32592362]\n",
      "[19.196049 19.104837 19.001133 18.958078 18.937298 18.889675 18.896807\n",
      " 18.95751  19.028084 19.076925 19.091007 19.03887  18.915562 18.813345\n",
      " 18.640676]\n",
      "[15.87  15.928 16.071 16.121 16.121 16.181 16.139 16.264 16.004 16.046\n",
      " 15.581 15.258 15.337 15.87  15.972]\n"
     ]
    }
   ],
   "source": [
    "y_pred = saved_model.predict(trim_dataset(X_test, BATCH_SIZE), batch_size=BATCH_SIZE)\n",
    "y_pred = y_pred.flatten()\n",
    "y_test = trim_dataset(y_test, BATCH_SIZE)\n",
    "error = mean_squared_error(y_test, y_pred)\n",
    "print(\"Error is\", error, y_pred.shape, y_test.shape)\n",
    "print(y_pred[0:15])\n",
    "print(y_test[0:15])\n",
    "y_pred_org = (y_pred * scaler.data_range_[3]) + scaler.data_min_[3] # min_max_scaler.inverse_transform(y_pred)\n",
    "y_test_t_org = (y_test *scaler.data_range_[3]) + scaler.data_min_[3] # min_max_scaler.inverse_transform(y_test_t)\n",
    "print(y_pred_org[0:15])\n",
    "print(y_test_t_org[0:15])"
   ]
  },
  {
   "cell_type": "code",
   "execution_count": 50,
   "metadata": {},
   "outputs": [
    {
     "data": {
      "text/plain": [
       "<matplotlib.legend.Legend at 0x1ba2fc2cdc8>"
      ]
     },
     "execution_count": 50,
     "metadata": {},
     "output_type": "execute_result"
    },
    {
     "data": {
      "image/png": "[encoded data removed]",
      "text/plain": [
       "<Figure size 864x360 with 1 Axes>"
      ]
     },
     "metadata": {
      "needs_background": "light"
     },
     "output_type": "display_data"
    }
   ],
   "source": [
    "plt.figure(figsize = (12, 5))\n",
    "plt.plot(y_pred_org, 'r--')\n",
    "plt.plot(y_test_t_org, 'b')\n",
    "plt.title('Prediction vs Real Stock Price')\n",
    "plt.ylabel('Price')\n",
    "plt.xlabel('Days')\n",
    "plt.legend(['Prediction', 'Real'], loc='upper left')"
   ]
  },
  {
   "cell_type": "code",
   "execution_count": null,
   "metadata": {},
   "outputs": [],
   "source": []
  }
 ],
 "metadata": {
  "kernelspec": {
   "display_name": "Python 3",
   "language": "python",
   "name": "python3"
  },
  "language_info": {
   "codemirror_mode": {
    "name": "ipython",
    "version": 3
   },
   "file_extension": ".py",
   "mimetype": "text/x-python",
   "name": "python",
   "nbconvert_exporter": "python",
   "pygments_lexer": "ipython3",
   "version": "3.7.6"
  }
 },
 "nbformat": 4,
 "nbformat_minor": 4
}
