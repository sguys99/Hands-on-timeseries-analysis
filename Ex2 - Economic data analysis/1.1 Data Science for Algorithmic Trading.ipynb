{
 "cells": [
  {
   "cell_type": "markdown",
   "metadata": {},
   "source": [
    "## Data Science for Algorthmmic Trading\n",
    "### Part 1 : US/CAD 환율 데이터 전처리"
   ]
  },
  {
   "cell_type": "markdown",
   "metadata": {},
   "source": [
    "- 참고자료 : https://towardsdatascience.com/data-science-in-algorithmic-trading-d21a46d1565d"
   ]
  },
  {
   "cell_type": "markdown",
   "metadata": {},
   "source": [
    "<div style=\"text-align: right\"> Initial upload: 2020.07.25 </div>\n",
    "<div style=\"text-align: right\"> Last update: 2020.07.25 </div>"
   ]
  },
  {
   "cell_type": "markdown",
   "metadata": {},
   "source": [
    "여기서는 환율정보 분석에 대하여 설명한다. **위 참고자료의 내용을 번역, 필사하고, 일부 내용을 추가한 것이다.**   \n",
    "환율은 영어로 exchange rate이다. 그런데 기준통화/대상통화(A/B) 형태로 표현할 때 Currency pair라고 부른다. "
   ]
  },
  {
   "cell_type": "code",
   "execution_count": 1,
   "metadata": {
    "ExecuteTime": {
     "end_time": "2020-07-25T05:50:47.753115Z",
     "start_time": "2020-07-25T05:50:47.035890Z"
    }
   },
   "outputs": [],
   "source": [
    "import numpy as np\n",
    "import pandas as pd\n",
    "import matplotlib.pyplot as plt\n",
    "import warnings; warnings.filterwarnings('ignore')\n",
    "plt.style.use('ggplot')\n",
    "%matplotlib inline\n",
    "\n",
    "# Options for pandas\n",
    "pd.options.display.max_columns = 20"
   ]
  },
  {
   "cell_type": "markdown",
   "metadata": {},
   "source": [
    "### 1. 데이터 읽어오기  \n",
    "- 여기서는 USD/CAD currency pair 데이터셋을 살펴본다.[[데이터주소]](https://open.canada.ca/data/en/dataset/1bc25b1e-0e02-4a5e-afd7-7b96d6728aac)"
   ]
  },
  {
   "cell_type": "code",
   "execution_count": 2,
   "metadata": {
    "ExecuteTime": {
     "end_time": "2020-07-25T05:50:48.591729Z",
     "start_time": "2020-07-25T05:50:47.756962Z"
    }
   },
   "outputs": [],
   "source": [
    "# meta = pd.read_csv('10100008_MetaData.csv')\n",
    "rates = pd.read_csv('10100008.csv')"
   ]
  },
  {
   "cell_type": "code",
   "execution_count": 3,
   "metadata": {
    "ExecuteTime": {
     "end_time": "2020-07-25T05:50:48.620653Z",
     "start_time": "2020-07-25T05:50:48.593724Z"
    },
    "scrolled": false
   },
   "outputs": [
    {
     "data": {
      "text/html": [
       "<div>\n",
       "<style scoped>\n",
       "    .dataframe tbody tr th:only-of-type {\n",
       "        vertical-align: middle;\n",
       "    }\n",
       "\n",
       "    .dataframe tbody tr th {\n",
       "        vertical-align: top;\n",
       "    }\n",
       "\n",
       "    .dataframe thead th {\n",
       "        text-align: right;\n",
       "    }\n",
       "</style>\n",
       "<table border=\"1\" class=\"dataframe\">\n",
       "  <thead>\n",
       "    <tr style=\"text-align: right;\">\n",
       "      <th></th>\n",
       "      <th>REF_DATE</th>\n",
       "      <th>GEO</th>\n",
       "      <th>DGUID</th>\n",
       "      <th>Type of currency</th>\n",
       "      <th>UOM</th>\n",
       "      <th>UOM_ID</th>\n",
       "      <th>SCALAR_FACTOR</th>\n",
       "      <th>SCALAR_ID</th>\n",
       "      <th>VECTOR</th>\n",
       "      <th>COORDINATE</th>\n",
       "      <th>VALUE</th>\n",
       "      <th>STATUS</th>\n",
       "      <th>SYMBOL</th>\n",
       "      <th>TERMINATED</th>\n",
       "      <th>DECIMALS</th>\n",
       "    </tr>\n",
       "  </thead>\n",
       "  <tbody>\n",
       "    <tr>\n",
       "      <th>0</th>\n",
       "      <td>1950-10-02</td>\n",
       "      <td>Canada</td>\n",
       "      <td>NaN</td>\n",
       "      <td>United States dollar, noon spot rate</td>\n",
       "      <td>Dollars</td>\n",
       "      <td>81</td>\n",
       "      <td>units</td>\n",
       "      <td>0</td>\n",
       "      <td>v121716</td>\n",
       "      <td>1.10</td>\n",
       "      <td>1.060000</td>\n",
       "      <td>NaN</td>\n",
       "      <td>NaN</td>\n",
       "      <td>NaN</td>\n",
       "      <td>8</td>\n",
       "    </tr>\n",
       "    <tr>\n",
       "      <th>1</th>\n",
       "      <td>1950-10-02</td>\n",
       "      <td>Canada</td>\n",
       "      <td>NaN</td>\n",
       "      <td>Danish krone, noon spot rate</td>\n",
       "      <td>Dollars</td>\n",
       "      <td>81</td>\n",
       "      <td>units</td>\n",
       "      <td>0</td>\n",
       "      <td>v121743</td>\n",
       "      <td>1.40</td>\n",
       "      <td>0.153459</td>\n",
       "      <td>NaN</td>\n",
       "      <td>NaN</td>\n",
       "      <td>NaN</td>\n",
       "      <td>8</td>\n",
       "    </tr>\n",
       "    <tr>\n",
       "      <th>2</th>\n",
       "      <td>1950-10-02</td>\n",
       "      <td>Canada</td>\n",
       "      <td>NaN</td>\n",
       "      <td>Norwegian krone, noon spot rate</td>\n",
       "      <td>Dollars</td>\n",
       "      <td>81</td>\n",
       "      <td>units</td>\n",
       "      <td>0</td>\n",
       "      <td>v121717</td>\n",
       "      <td>1.10</td>\n",
       "      <td>0.148400</td>\n",
       "      <td>NaN</td>\n",
       "      <td>NaN</td>\n",
       "      <td>NaN</td>\n",
       "      <td>8</td>\n",
       "    </tr>\n",
       "    <tr>\n",
       "      <th>3</th>\n",
       "      <td>1950-10-02</td>\n",
       "      <td>Canada</td>\n",
       "      <td>NaN</td>\n",
       "      <td>Swedish krona, noon spot rate</td>\n",
       "      <td>Dollars</td>\n",
       "      <td>81</td>\n",
       "      <td>units</td>\n",
       "      <td>0</td>\n",
       "      <td>v121718</td>\n",
       "      <td>1.11</td>\n",
       "      <td>0.204800</td>\n",
       "      <td>NaN</td>\n",
       "      <td>NaN</td>\n",
       "      <td>NaN</td>\n",
       "      <td>8</td>\n",
       "    </tr>\n",
       "    <tr>\n",
       "      <th>4</th>\n",
       "      <td>1950-10-02</td>\n",
       "      <td>Canada</td>\n",
       "      <td>NaN</td>\n",
       "      <td>Swiss franc, noon spot rate</td>\n",
       "      <td>Dollars</td>\n",
       "      <td>81</td>\n",
       "      <td>units</td>\n",
       "      <td>0</td>\n",
       "      <td>v121719</td>\n",
       "      <td>1.12</td>\n",
       "      <td>0.243400</td>\n",
       "      <td>NaN</td>\n",
       "      <td>NaN</td>\n",
       "      <td>NaN</td>\n",
       "      <td>8</td>\n",
       "    </tr>\n",
       "  </tbody>\n",
       "</table>\n",
       "</div>"
      ],
      "text/plain": [
       "     REF_DATE     GEO  DGUID                      Type of currency      UOM  \\\n",
       "0  1950-10-02  Canada    NaN  United States dollar, noon spot rate  Dollars   \n",
       "1  1950-10-02  Canada    NaN          Danish krone, noon spot rate  Dollars   \n",
       "2  1950-10-02  Canada    NaN       Norwegian krone, noon spot rate  Dollars   \n",
       "3  1950-10-02  Canada    NaN         Swedish krona, noon spot rate  Dollars   \n",
       "4  1950-10-02  Canada    NaN           Swiss franc, noon spot rate  Dollars   \n",
       "\n",
       "   UOM_ID SCALAR_FACTOR  SCALAR_ID   VECTOR  COORDINATE     VALUE STATUS  \\\n",
       "0      81        units           0  v121716        1.10  1.060000    NaN   \n",
       "1      81        units           0  v121743        1.40  0.153459    NaN   \n",
       "2      81        units           0  v121717        1.10  0.148400    NaN   \n",
       "3      81        units           0  v121718        1.11  0.204800    NaN   \n",
       "4      81        units           0  v121719        1.12  0.243400    NaN   \n",
       "\n",
       "   SYMBOL TERMINATED  DECIMALS  \n",
       "0     NaN        NaN         8  \n",
       "1     NaN        NaN         8  \n",
       "2     NaN        NaN         8  \n",
       "3     NaN        NaN         8  \n",
       "4     NaN        NaN         8  "
      ]
     },
     "execution_count": 3,
     "metadata": {},
     "output_type": "execute_result"
    }
   ],
   "source": [
    "rates.head()"
   ]
  },
  {
   "cell_type": "code",
   "execution_count": 4,
   "metadata": {
    "ExecuteTime": {
     "end_time": "2020-07-25T05:50:48.636611Z",
     "start_time": "2020-07-25T05:50:48.622648Z"
    }
   },
   "outputs": [
    {
     "data": {
      "text/plain": [
       "(534282, 15)"
      ]
     },
     "execution_count": 4,
     "metadata": {},
     "output_type": "execute_result"
    }
   ],
   "source": [
    "rates.shape"
   ]
  },
  {
   "cell_type": "markdown",
   "metadata": {},
   "source": [
    "### 2. 전처리"
   ]
  },
  {
   "cell_type": "markdown",
   "metadata": {},
   "source": [
    "원하는 컬럼 지정하기 : 기준일과 환율"
   ]
  },
  {
   "cell_type": "code",
   "execution_count": 5,
   "metadata": {
    "ExecuteTime": {
     "end_time": "2020-07-25T05:50:48.648579Z",
     "start_time": "2020-07-25T05:50:48.642595Z"
    }
   },
   "outputs": [],
   "source": [
    "rate_cols = ['REF_DATE', 'VALUE']"
   ]
  },
  {
   "cell_type": "markdown",
   "metadata": {},
   "source": [
    "기준통화만 추출하기 : USD"
   ]
  },
  {
   "cell_type": "code",
   "execution_count": 6,
   "metadata": {
    "ExecuteTime": {
     "end_time": "2020-07-25T05:50:48.705429Z",
     "start_time": "2020-07-25T05:50:48.652568Z"
    }
   },
   "outputs": [],
   "source": [
    "rates = rates[rates['Type of currency']=='United States dollar, closing spot rate']"
   ]
  },
  {
   "cell_type": "markdown",
   "metadata": {},
   "source": [
    "원하는 컬럼을 추출하고 결측치를 처리"
   ]
  },
  {
   "cell_type": "code",
   "execution_count": 7,
   "metadata": {
    "ExecuteTime": {
     "end_time": "2020-07-25T05:50:48.713405Z",
     "start_time": "2020-07-25T05:50:48.707422Z"
    }
   },
   "outputs": [],
   "source": [
    "rates = rates[rate_cols]"
   ]
  },
  {
   "cell_type": "code",
   "execution_count": 8,
   "metadata": {
    "ExecuteTime": {
     "end_time": "2020-07-25T05:50:48.729389Z",
     "start_time": "2020-07-25T05:50:48.714402Z"
    }
   },
   "outputs": [
    {
     "data": {
      "text/html": [
       "<div>\n",
       "<style scoped>\n",
       "    .dataframe tbody tr th:only-of-type {\n",
       "        vertical-align: middle;\n",
       "    }\n",
       "\n",
       "    .dataframe tbody tr th {\n",
       "        vertical-align: top;\n",
       "    }\n",
       "\n",
       "    .dataframe thead th {\n",
       "        text-align: right;\n",
       "    }\n",
       "</style>\n",
       "<table border=\"1\" class=\"dataframe\">\n",
       "  <thead>\n",
       "    <tr style=\"text-align: right;\">\n",
       "      <th></th>\n",
       "      <th>REF_DATE</th>\n",
       "      <th>VALUE</th>\n",
       "    </tr>\n",
       "  </thead>\n",
       "  <tbody>\n",
       "    <tr>\n",
       "      <th>6</th>\n",
       "      <td>1950-10-02</td>\n",
       "      <td>1.05500</td>\n",
       "    </tr>\n",
       "    <tr>\n",
       "      <th>15</th>\n",
       "      <td>1950-10-03</td>\n",
       "      <td>1.05000</td>\n",
       "    </tr>\n",
       "    <tr>\n",
       "      <th>24</th>\n",
       "      <td>1950-10-04</td>\n",
       "      <td>1.05250</td>\n",
       "    </tr>\n",
       "    <tr>\n",
       "      <th>33</th>\n",
       "      <td>1950-10-05</td>\n",
       "      <td>1.06000</td>\n",
       "    </tr>\n",
       "    <tr>\n",
       "      <th>42</th>\n",
       "      <td>1950-10-06</td>\n",
       "      <td>1.05875</td>\n",
       "    </tr>\n",
       "  </tbody>\n",
       "</table>\n",
       "</div>"
      ],
      "text/plain": [
       "      REF_DATE    VALUE\n",
       "6   1950-10-02  1.05500\n",
       "15  1950-10-03  1.05000\n",
       "24  1950-10-04  1.05250\n",
       "33  1950-10-05  1.06000\n",
       "42  1950-10-06  1.05875"
      ]
     },
     "execution_count": 8,
     "metadata": {},
     "output_type": "execute_result"
    }
   ],
   "source": [
    "rates.head()"
   ]
  },
  {
   "cell_type": "code",
   "execution_count": 9,
   "metadata": {
    "ExecuteTime": {
     "end_time": "2020-07-25T05:50:48.748313Z",
     "start_time": "2020-07-25T05:50:48.731377Z"
    }
   },
   "outputs": [
    {
     "data": {
      "text/plain": [
       "REF_DATE      0\n",
       "VALUE       628\n",
       "dtype: int64"
      ]
     },
     "execution_count": 9,
     "metadata": {},
     "output_type": "execute_result"
    }
   ],
   "source": [
    "rates.isnull().sum()"
   ]
  },
  {
   "cell_type": "code",
   "execution_count": 10,
   "metadata": {
    "ExecuteTime": {
     "end_time": "2020-07-25T05:50:48.760307Z",
     "start_time": "2020-07-25T05:50:48.751304Z"
    }
   },
   "outputs": [],
   "source": [
    "# 결측치에 일단 0을 대입\n",
    "rates = rates.fillna(0)"
   ]
  },
  {
   "cell_type": "code",
   "execution_count": 11,
   "metadata": {
    "ExecuteTime": {
     "end_time": "2020-07-25T05:50:48.775241Z",
     "start_time": "2020-07-25T05:50:48.762275Z"
    }
   },
   "outputs": [
    {
     "data": {
      "text/plain": [
       "REF_DATE    0\n",
       "VALUE       0\n",
       "dtype: int64"
      ]
     },
     "execution_count": 11,
     "metadata": {},
     "output_type": "execute_result"
    }
   ],
   "source": [
    "rates.isnull().sum()"
   ]
  },
  {
   "cell_type": "markdown",
   "metadata": {},
   "source": [
    "기준일을 인덱스로 지정하기"
   ]
  },
  {
   "cell_type": "code",
   "execution_count": 12,
   "metadata": {
    "ExecuteTime": {
     "end_time": "2020-07-25T05:50:48.793195Z",
     "start_time": "2020-07-25T05:50:48.777235Z"
    }
   },
   "outputs": [
    {
     "name": "stdout",
     "output_type": "stream",
     "text": [
      "<class 'pandas.core.frame.DataFrame'>\n",
      "Int64Index: 24316 entries, 6 to 534256\n",
      "Data columns (total 2 columns):\n",
      " #   Column    Non-Null Count  Dtype  \n",
      "---  ------    --------------  -----  \n",
      " 0   REF_DATE  24316 non-null  object \n",
      " 1   VALUE     24316 non-null  float64\n",
      "dtypes: float64(1), object(1)\n",
      "memory usage: 569.9+ KB\n"
     ]
    }
   ],
   "source": [
    "rates.info()"
   ]
  },
  {
   "cell_type": "code",
   "execution_count": 13,
   "metadata": {
    "ExecuteTime": {
     "end_time": "2020-07-25T05:50:48.818164Z",
     "start_time": "2020-07-25T05:50:48.796184Z"
    }
   },
   "outputs": [],
   "source": [
    "rates['REF_DATE'] = pd.to_datetime(rates['REF_DATE'])"
   ]
  },
  {
   "cell_type": "code",
   "execution_count": 14,
   "metadata": {
    "ExecuteTime": {
     "end_time": "2020-07-25T05:50:48.829111Z",
     "start_time": "2020-07-25T05:50:48.820121Z"
    }
   },
   "outputs": [],
   "source": [
    "rates.index = rates['REF_DATE']"
   ]
  },
  {
   "cell_type": "code",
   "execution_count": 15,
   "metadata": {
    "ExecuteTime": {
     "end_time": "2020-07-25T05:50:48.848046Z",
     "start_time": "2020-07-25T05:50:48.831101Z"
    }
   },
   "outputs": [
    {
     "name": "stdout",
     "output_type": "stream",
     "text": [
      "<class 'pandas.core.frame.DataFrame'>\n",
      "DatetimeIndex: 24316 entries, 1950-10-02 to 2017-04-28\n",
      "Data columns (total 2 columns):\n",
      " #   Column    Non-Null Count  Dtype         \n",
      "---  ------    --------------  -----         \n",
      " 0   REF_DATE  24316 non-null  datetime64[ns]\n",
      " 1   VALUE     24316 non-null  float64       \n",
      "dtypes: datetime64[ns](1), float64(1)\n",
      "memory usage: 569.9 KB\n"
     ]
    }
   ],
   "source": [
    "rates.info()"
   ]
  },
  {
   "cell_type": "code",
   "execution_count": 16,
   "metadata": {
    "ExecuteTime": {
     "end_time": "2020-07-25T05:50:48.855055Z",
     "start_time": "2020-07-25T05:50:48.850067Z"
    }
   },
   "outputs": [],
   "source": [
    "# rates = rates.drop('REF_DATE', axis = 1)"
   ]
  },
  {
   "cell_type": "code",
   "execution_count": 17,
   "metadata": {
    "ExecuteTime": {
     "end_time": "2020-07-25T05:50:48.874974Z",
     "start_time": "2020-07-25T05:50:48.857048Z"
    }
   },
   "outputs": [
    {
     "data": {
      "text/html": [
       "<div>\n",
       "<style scoped>\n",
       "    .dataframe tbody tr th:only-of-type {\n",
       "        vertical-align: middle;\n",
       "    }\n",
       "\n",
       "    .dataframe tbody tr th {\n",
       "        vertical-align: top;\n",
       "    }\n",
       "\n",
       "    .dataframe thead th {\n",
       "        text-align: right;\n",
       "    }\n",
       "</style>\n",
       "<table border=\"1\" class=\"dataframe\">\n",
       "  <thead>\n",
       "    <tr style=\"text-align: right;\">\n",
       "      <th></th>\n",
       "      <th>REF_DATE</th>\n",
       "      <th>VALUE</th>\n",
       "    </tr>\n",
       "    <tr>\n",
       "      <th>REF_DATE</th>\n",
       "      <th></th>\n",
       "      <th></th>\n",
       "    </tr>\n",
       "  </thead>\n",
       "  <tbody>\n",
       "    <tr>\n",
       "      <th>1950-10-02</th>\n",
       "      <td>1950-10-02</td>\n",
       "      <td>1.05500</td>\n",
       "    </tr>\n",
       "    <tr>\n",
       "      <th>1950-10-03</th>\n",
       "      <td>1950-10-03</td>\n",
       "      <td>1.05000</td>\n",
       "    </tr>\n",
       "    <tr>\n",
       "      <th>1950-10-04</th>\n",
       "      <td>1950-10-04</td>\n",
       "      <td>1.05250</td>\n",
       "    </tr>\n",
       "    <tr>\n",
       "      <th>1950-10-05</th>\n",
       "      <td>1950-10-05</td>\n",
       "      <td>1.06000</td>\n",
       "    </tr>\n",
       "    <tr>\n",
       "      <th>1950-10-06</th>\n",
       "      <td>1950-10-06</td>\n",
       "      <td>1.05875</td>\n",
       "    </tr>\n",
       "  </tbody>\n",
       "</table>\n",
       "</div>"
      ],
      "text/plain": [
       "             REF_DATE    VALUE\n",
       "REF_DATE                      \n",
       "1950-10-02 1950-10-02  1.05500\n",
       "1950-10-03 1950-10-03  1.05000\n",
       "1950-10-04 1950-10-04  1.05250\n",
       "1950-10-05 1950-10-05  1.06000\n",
       "1950-10-06 1950-10-06  1.05875"
      ]
     },
     "execution_count": 17,
     "metadata": {},
     "output_type": "execute_result"
    }
   ],
   "source": [
    "rates.head()"
   ]
  },
  {
   "cell_type": "markdown",
   "metadata": {},
   "source": [
    "컬럼명 변환"
   ]
  },
  {
   "cell_type": "code",
   "execution_count": 18,
   "metadata": {
    "ExecuteTime": {
     "end_time": "2020-07-25T05:50:48.887008Z",
     "start_time": "2020-07-25T05:50:48.876969Z"
    }
   },
   "outputs": [],
   "source": [
    "rates = rates.rename(columns={'VALUE':'USD_CAD'})"
   ]
  },
  {
   "cell_type": "code",
   "execution_count": 19,
   "metadata": {
    "ExecuteTime": {
     "end_time": "2020-07-25T05:50:48.903896Z",
     "start_time": "2020-07-25T05:50:48.887940Z"
    }
   },
   "outputs": [
    {
     "data": {
      "text/html": [
       "<div>\n",
       "<style scoped>\n",
       "    .dataframe tbody tr th:only-of-type {\n",
       "        vertical-align: middle;\n",
       "    }\n",
       "\n",
       "    .dataframe tbody tr th {\n",
       "        vertical-align: top;\n",
       "    }\n",
       "\n",
       "    .dataframe thead th {\n",
       "        text-align: right;\n",
       "    }\n",
       "</style>\n",
       "<table border=\"1\" class=\"dataframe\">\n",
       "  <thead>\n",
       "    <tr style=\"text-align: right;\">\n",
       "      <th></th>\n",
       "      <th>REF_DATE</th>\n",
       "      <th>USD_CAD</th>\n",
       "    </tr>\n",
       "    <tr>\n",
       "      <th>REF_DATE</th>\n",
       "      <th></th>\n",
       "      <th></th>\n",
       "    </tr>\n",
       "  </thead>\n",
       "  <tbody>\n",
       "    <tr>\n",
       "      <th>1950-10-02</th>\n",
       "      <td>1950-10-02</td>\n",
       "      <td>1.05500</td>\n",
       "    </tr>\n",
       "    <tr>\n",
       "      <th>1950-10-03</th>\n",
       "      <td>1950-10-03</td>\n",
       "      <td>1.05000</td>\n",
       "    </tr>\n",
       "    <tr>\n",
       "      <th>1950-10-04</th>\n",
       "      <td>1950-10-04</td>\n",
       "      <td>1.05250</td>\n",
       "    </tr>\n",
       "    <tr>\n",
       "      <th>1950-10-05</th>\n",
       "      <td>1950-10-05</td>\n",
       "      <td>1.06000</td>\n",
       "    </tr>\n",
       "    <tr>\n",
       "      <th>1950-10-06</th>\n",
       "      <td>1950-10-06</td>\n",
       "      <td>1.05875</td>\n",
       "    </tr>\n",
       "  </tbody>\n",
       "</table>\n",
       "</div>"
      ],
      "text/plain": [
       "             REF_DATE  USD_CAD\n",
       "REF_DATE                      \n",
       "1950-10-02 1950-10-02  1.05500\n",
       "1950-10-03 1950-10-03  1.05000\n",
       "1950-10-04 1950-10-04  1.05250\n",
       "1950-10-05 1950-10-05  1.06000\n",
       "1950-10-06 1950-10-06  1.05875"
      ]
     },
     "execution_count": 19,
     "metadata": {},
     "output_type": "execute_result"
    }
   ],
   "source": [
    "rates.head()"
   ]
  },
  {
   "cell_type": "markdown",
   "metadata": {},
   "source": [
    "0 값 특징 확인\n",
    "- 0으로 표시된 날은 아마도 장이 열리지 않는 주말이나 공휴일이었을 가능성이 높다.\n",
    "- 앞에서 결측치를 0으로 대체한 것을 포함해서 이런 값들은 직전 개장일의 값으로 대체한다."
   ]
  },
  {
   "cell_type": "code",
   "execution_count": 20,
   "metadata": {
    "ExecuteTime": {
     "end_time": "2020-07-25T05:50:48.925887Z",
     "start_time": "2020-07-25T05:50:48.904894Z"
    }
   },
   "outputs": [],
   "source": [
    "rates['day of week'] = rates['REF_DATE'].dt.dayofweek"
   ]
  },
  {
   "cell_type": "code",
   "execution_count": 21,
   "metadata": {
    "ExecuteTime": {
     "end_time": "2020-07-25T05:50:48.943822Z",
     "start_time": "2020-07-25T05:50:48.926835Z"
    }
   },
   "outputs": [
    {
     "data": {
      "text/html": [
       "<div>\n",
       "<style scoped>\n",
       "    .dataframe tbody tr th:only-of-type {\n",
       "        vertical-align: middle;\n",
       "    }\n",
       "\n",
       "    .dataframe tbody tr th {\n",
       "        vertical-align: top;\n",
       "    }\n",
       "\n",
       "    .dataframe thead th {\n",
       "        text-align: right;\n",
       "    }\n",
       "</style>\n",
       "<table border=\"1\" class=\"dataframe\">\n",
       "  <thead>\n",
       "    <tr style=\"text-align: right;\">\n",
       "      <th></th>\n",
       "      <th>REF_DATE</th>\n",
       "      <th>USD_CAD</th>\n",
       "      <th>day of week</th>\n",
       "    </tr>\n",
       "    <tr>\n",
       "      <th>REF_DATE</th>\n",
       "      <th></th>\n",
       "      <th></th>\n",
       "      <th></th>\n",
       "    </tr>\n",
       "  </thead>\n",
       "  <tbody>\n",
       "    <tr>\n",
       "      <th>1950-10-07</th>\n",
       "      <td>1950-10-07</td>\n",
       "      <td>0.0</td>\n",
       "      <td>5</td>\n",
       "    </tr>\n",
       "    <tr>\n",
       "      <th>1950-10-08</th>\n",
       "      <td>1950-10-08</td>\n",
       "      <td>0.0</td>\n",
       "      <td>6</td>\n",
       "    </tr>\n",
       "    <tr>\n",
       "      <th>1950-10-14</th>\n",
       "      <td>1950-10-14</td>\n",
       "      <td>0.0</td>\n",
       "      <td>5</td>\n",
       "    </tr>\n",
       "    <tr>\n",
       "      <th>1950-10-15</th>\n",
       "      <td>1950-10-15</td>\n",
       "      <td>0.0</td>\n",
       "      <td>6</td>\n",
       "    </tr>\n",
       "    <tr>\n",
       "      <th>1950-10-21</th>\n",
       "      <td>1950-10-21</td>\n",
       "      <td>0.0</td>\n",
       "      <td>5</td>\n",
       "    </tr>\n",
       "    <tr>\n",
       "      <th>...</th>\n",
       "      <td>...</td>\n",
       "      <td>...</td>\n",
       "      <td>...</td>\n",
       "    </tr>\n",
       "    <tr>\n",
       "      <th>2017-04-09</th>\n",
       "      <td>2017-04-09</td>\n",
       "      <td>0.0</td>\n",
       "      <td>6</td>\n",
       "    </tr>\n",
       "    <tr>\n",
       "      <th>2017-04-15</th>\n",
       "      <td>2017-04-15</td>\n",
       "      <td>0.0</td>\n",
       "      <td>5</td>\n",
       "    </tr>\n",
       "    <tr>\n",
       "      <th>2017-04-16</th>\n",
       "      <td>2017-04-16</td>\n",
       "      <td>0.0</td>\n",
       "      <td>6</td>\n",
       "    </tr>\n",
       "    <tr>\n",
       "      <th>2017-04-22</th>\n",
       "      <td>2017-04-22</td>\n",
       "      <td>0.0</td>\n",
       "      <td>5</td>\n",
       "    </tr>\n",
       "    <tr>\n",
       "      <th>2017-04-23</th>\n",
       "      <td>2017-04-23</td>\n",
       "      <td>0.0</td>\n",
       "      <td>6</td>\n",
       "    </tr>\n",
       "  </tbody>\n",
       "</table>\n",
       "<p>6946 rows × 3 columns</p>\n",
       "</div>"
      ],
      "text/plain": [
       "             REF_DATE  USD_CAD  day of week\n",
       "REF_DATE                                   \n",
       "1950-10-07 1950-10-07      0.0            5\n",
       "1950-10-08 1950-10-08      0.0            6\n",
       "1950-10-14 1950-10-14      0.0            5\n",
       "1950-10-15 1950-10-15      0.0            6\n",
       "1950-10-21 1950-10-21      0.0            5\n",
       "...               ...      ...          ...\n",
       "2017-04-09 2017-04-09      0.0            6\n",
       "2017-04-15 2017-04-15      0.0            5\n",
       "2017-04-16 2017-04-16      0.0            6\n",
       "2017-04-22 2017-04-22      0.0            5\n",
       "2017-04-23 2017-04-23      0.0            6\n",
       "\n",
       "[6946 rows x 3 columns]"
      ]
     },
     "execution_count": 21,
     "metadata": {},
     "output_type": "execute_result"
    }
   ],
   "source": [
    "rates[(rates['day of week']==5) | (rates['day of week']==6)]"
   ]
  },
  {
   "cell_type": "markdown",
   "metadata": {},
   "source": [
    "- 이외에 공휴일로 인한 0도 있을 것이다.(공휴일을 찾는 함수를 로직을 생성해 봤지만 확인 할 수 없었다., 아래 참고)"
   ]
  },
  {
   "cell_type": "code",
   "execution_count": 22,
   "metadata": {
    "ExecuteTime": {
     "end_time": "2020-07-25T05:50:48.953763Z",
     "start_time": "2020-07-25T05:50:48.944787Z"
    }
   },
   "outputs": [],
   "source": [
    "# from pandas.tseries.holiday import USFederalHolidayCalendar as calendar\n",
    "# pd.tseries.holiday.\n",
    "\n",
    "# cal = calendar()\n",
    "# holidays = cal.holidays(start=rates.index.min(), end=rates.index.max())\n",
    "\n",
    "# rates['holiday'] = rates['REF_DATE'].isin(holidays)\n",
    "\n",
    "# rates[rates['holiday']==True]\n",
    "\n",
    "# !pip install holidays\n",
    "# import holidays\n",
    "# hday = holidays.CountryHoliday(country='CA', years=[np.int(rates.index.min().strftime('%Y')),\n",
    "#                                                    np.int(rates.index.max().strftime('%Y'))],\n",
    "#                               expand=False)"
   ]
  },
  {
   "cell_type": "markdown",
   "metadata": {},
   "source": [
    "본격 적으로 0값 처리하기"
   ]
  },
  {
   "cell_type": "code",
   "execution_count": 23,
   "metadata": {
    "ExecuteTime": {
     "end_time": "2020-07-25T05:50:49.025597Z",
     "start_time": "2020-07-25T05:50:48.955758Z"
    }
   },
   "outputs": [
    {
     "name": "stdout",
     "output_type": "stream",
     "text": [
      "Shifting rates. Days with rate at 0 = % 0.31139990129955586\n",
      "Shifting rates. Days with rate at 0 = % 0.16404836321763447\n",
      "Shifting rates. Days with rate at 0 = % 0.020603717716729725\n",
      "Shifting rates. Days with rate at 0 = % 0.0020151340681033064\n",
      "Days with rate at 0 = % 0.0\n"
     ]
    }
   ],
   "source": [
    "while rates[rates['USD_CAD']==0].count(axis = 0)['USD_CAD']/len(rates.index) >0:\n",
    "    # 0 값이 없어 질때 까지 진행\n",
    "    print('Shifting rates. Days with rate at 0 = %', \n",
    "          rates[rates == 0].count(axis=0)['USD_CAD']/len(rates.index))\n",
    "    rates['yesterday'] = rates['USD_CAD'].shift(1)\n",
    "    rates['USD_CAD']  = np.where(rates['USD_CAD']==0, \n",
    "                                 rates['yesterday'], rates['USD_CAD'])\n",
    "    \n",
    "print(\"Days with rate at 0 = %\",\n",
    "      rates[rates == 0].count(axis=0)['USD_CAD']/len(rates.index))"
   ]
  },
  {
   "cell_type": "code",
   "execution_count": 24,
   "metadata": {
    "ExecuteTime": {
     "end_time": "2020-07-25T05:50:49.038573Z",
     "start_time": "2020-07-25T05:50:49.027566Z"
    }
   },
   "outputs": [
    {
     "data": {
      "text/html": [
       "<div>\n",
       "<style scoped>\n",
       "    .dataframe tbody tr th:only-of-type {\n",
       "        vertical-align: middle;\n",
       "    }\n",
       "\n",
       "    .dataframe tbody tr th {\n",
       "        vertical-align: top;\n",
       "    }\n",
       "\n",
       "    .dataframe thead th {\n",
       "        text-align: right;\n",
       "    }\n",
       "</style>\n",
       "<table border=\"1\" class=\"dataframe\">\n",
       "  <thead>\n",
       "    <tr style=\"text-align: right;\">\n",
       "      <th></th>\n",
       "      <th>REF_DATE</th>\n",
       "      <th>USD_CAD</th>\n",
       "      <th>day of week</th>\n",
       "      <th>yesterday</th>\n",
       "    </tr>\n",
       "    <tr>\n",
       "      <th>REF_DATE</th>\n",
       "      <th></th>\n",
       "      <th></th>\n",
       "      <th></th>\n",
       "      <th></th>\n",
       "    </tr>\n",
       "  </thead>\n",
       "  <tbody>\n",
       "    <tr>\n",
       "      <th>1950-10-02</th>\n",
       "      <td>1950-10-02</td>\n",
       "      <td>1.05500</td>\n",
       "      <td>0</td>\n",
       "      <td>NaN</td>\n",
       "    </tr>\n",
       "    <tr>\n",
       "      <th>1950-10-03</th>\n",
       "      <td>1950-10-03</td>\n",
       "      <td>1.05000</td>\n",
       "      <td>1</td>\n",
       "      <td>1.0550</td>\n",
       "    </tr>\n",
       "    <tr>\n",
       "      <th>1950-10-04</th>\n",
       "      <td>1950-10-04</td>\n",
       "      <td>1.05250</td>\n",
       "      <td>2</td>\n",
       "      <td>1.0500</td>\n",
       "    </tr>\n",
       "    <tr>\n",
       "      <th>1950-10-05</th>\n",
       "      <td>1950-10-05</td>\n",
       "      <td>1.06000</td>\n",
       "      <td>3</td>\n",
       "      <td>1.0525</td>\n",
       "    </tr>\n",
       "    <tr>\n",
       "      <th>1950-10-06</th>\n",
       "      <td>1950-10-06</td>\n",
       "      <td>1.05875</td>\n",
       "      <td>4</td>\n",
       "      <td>1.0600</td>\n",
       "    </tr>\n",
       "  </tbody>\n",
       "</table>\n",
       "</div>"
      ],
      "text/plain": [
       "             REF_DATE  USD_CAD  day of week  yesterday\n",
       "REF_DATE                                              \n",
       "1950-10-02 1950-10-02  1.05500            0        NaN\n",
       "1950-10-03 1950-10-03  1.05000            1     1.0550\n",
       "1950-10-04 1950-10-04  1.05250            2     1.0500\n",
       "1950-10-05 1950-10-05  1.06000            3     1.0525\n",
       "1950-10-06 1950-10-06  1.05875            4     1.0600"
      ]
     },
     "execution_count": 24,
     "metadata": {},
     "output_type": "execute_result"
    }
   ],
   "source": [
    "rates.head()"
   ]
  },
  {
   "cell_type": "code",
   "execution_count": 25,
   "metadata": {
    "ExecuteTime": {
     "end_time": "2020-07-25T05:50:49.051534Z",
     "start_time": "2020-07-25T05:50:49.040531Z"
    }
   },
   "outputs": [],
   "source": [
    "rates = rates.drop(['REF_DATE', 'day of week', 'yesterday'],\n",
    "                  axis = 1)"
   ]
  },
  {
   "cell_type": "markdown",
   "metadata": {},
   "source": [
    "### 3. 시각화"
   ]
  },
  {
   "cell_type": "code",
   "execution_count": 26,
   "metadata": {
    "ExecuteTime": {
     "end_time": "2020-07-25T05:50:49.406561Z",
     "start_time": "2020-07-25T05:50:49.053498Z"
    }
   },
   "outputs": [
    {
     "data": {
      "text/plain": [
       "<matplotlib.axes._subplots.AxesSubplot at 0x1e1abef4cc8>"
      ]
     },
     "execution_count": 26,
     "metadata": {},
     "output_type": "execute_result"
    },
    {
     "data": {
      "image/png": "[encoded data removed]",
      "text/plain": [
       "<Figure size 864x432 with 1 Axes>"
      ]
     },
     "metadata": {
      "needs_background": "light"
     },
     "output_type": "display_data"
    }
   ],
   "source": [
    "rates.plot(figsize = (12, 6))"
   ]
  },
  {
   "cell_type": "markdown",
   "metadata": {
    "ExecuteTime": {
     "end_time": "2020-07-25T05:33:54.533021Z",
     "start_time": "2020-07-25T05:33:54.528998Z"
    }
   },
   "source": [
    "<img src = 'pic/20200725.jpg' width=\"500\" height=\"100\" />"
   ]
  },
  {
   "cell_type": "markdown",
   "metadata": {},
   "source": [
    "위 그림은 우리가 그린 것이고 아래는 fxtop.com 이라는 곳에서 추출한 것이다."
   ]
  },
  {
   "cell_type": "markdown",
   "metadata": {},
   "source": [
    "결과가 제대로 나온 것을 확인 할 수가 있다."
   ]
  },
  {
   "cell_type": "markdown",
   "metadata": {},
   "source": [
    "- 지금까지 USD/CAD 환율 변동을 plotting 하기 위해 전처리를 수행하였다.  \n",
    "- 다음에는 환율을 예측하기 위해 Industrial ProductPrice Index(IPPI)를 살펴본다."
   ]
  },
  {
   "cell_type": "code",
   "execution_count": null,
   "metadata": {},
   "outputs": [],
   "source": []
  }
 ],
 "metadata": {
  "kernelspec": {
   "display_name": "Python 3",
   "language": "python",
   "name": "python3"
  },
  "language_info": {
   "codemirror_mode": {
    "name": "ipython",
    "version": 3
   },
   "file_extension": ".py",
   "mimetype": "text/x-python",
   "name": "python",
   "nbconvert_exporter": "python",
   "pygments_lexer": "ipython3",
   "version": "3.7.6"
  }
 },
 "nbformat": 4,
 "nbformat_minor": 4
}
