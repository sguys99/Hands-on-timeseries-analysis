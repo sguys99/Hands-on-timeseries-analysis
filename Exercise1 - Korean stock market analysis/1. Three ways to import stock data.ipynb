{
 "cells": [
  {
   "cell_type": "markdown",
   "metadata": {},
   "source": [
    "# Stock data analysis\n",
    "#### part1 : Three ways to import stock data"
   ]
  },
  {
   "cell_type": "markdown",
   "metadata": {},
   "source": [
    "<div style=\"text-align: right\"> <b>Author : Kwang Myung Yu</b></div> "
   ]
  },
  {
   "cell_type": "markdown",
   "metadata": {},
   "source": [
    "<div style=\"text-align: right\"> Initial upload: 2020.07.21 </div> \n",
    "<div style=\"text-align: right\"> Last update: 2020.07.21 </div> "
   ]
  },
  {
   "cell_type": "markdown",
   "metadata": {},
   "source": [
    "주식 데이터 분석을 위해서 가장 먼저 데이터를 읽어와야 한다.  \n",
    "네이버증권 크롤링, FinanceDataReader, pandas_datareader/ Yahoo finance 라이브러리를 사용한 3가지 방법에 대하여 소개한다."
   ]
  },
  {
   "cell_type": "markdown",
   "metadata": {},
   "source": [
    "### 0. 한국거래소(KRX)에서 종목코드 가져오기  \n",
    "분석하기 전에 KRX에 기록된 상장기업명과 종목코드(6자리)를 저장해둔다. 종목검색에 활용할 수있다. "
   ]
  },
  {
   "cell_type": "code",
   "execution_count": 1,
   "metadata": {},
   "outputs": [],
   "source": [
    "import numpy as np\n",
    "import pandas as pd\n",
    "import matplotlib.pyplot as plt\n",
    "import seaborn as sns\n",
    "import datetime\n",
    "import warnings; warnings.filterwarnings('ignore')\n",
    "plt.style.use('ggplot')\n",
    "%matplotlib inline"
   ]
  },
  {
   "cell_type": "markdown",
   "metadata": {},
   "source": [
    "먼저 KRX 홈페이지(http://kind.krx.co.kr/)를 방문하여 `장법인상세정보`/ `장법인목록` 화면으로 이동한다.  \n",
    "(또는 [[다음]](http://kind.krx.co.kr/corpgeneral/corpList.do?method=loadInitPage) 링크를 클릭한다.)"
   ]
  },
  {
   "cell_type": "markdown",
   "metadata": {},
   "source": [
    "<img src = './pic/1.1.jpg' width = 600>"
   ]
  },
  {
   "cell_type": "markdown",
   "metadata": {},
   "source": [
    "오른쪽 아래의 `EXCEL` 버튼을 클릭하면 상장법인 목록 파일을 다운로드 할 수있다.  \n",
    "여기서는 `pandas`의 `read_html`을 활용하여 정보를 데이터프레임으로 읽어들인다.  \n",
    "`read_html()`은 HTML에서 'table' '/table'태그를 찾아 자동으로 DataFrame형식으로 만들어준다."
   ]
  },
  {
   "cell_type": "code",
   "execution_count": 2,
   "metadata": {},
   "outputs": [],
   "source": [
    "stock_code = pd.read_html('http://kind.krx.co.kr/corpgeneral/corpList.do?method=download&searchType=13', \n",
    "                          header = 0)[0]\n",
    "# 주의 : 마지막에 [0]을 반드시 추가해야함. read_html은 table들을 읽어 리스트로 저장함"
   ]
  },
  {
   "cell_type": "code",
   "execution_count": 3,
   "metadata": {},
   "outputs": [
    {
     "data": {
      "text/html": [
       "<div>\n",
       "<style scoped>\n",
       "    .dataframe tbody tr th:only-of-type {\n",
       "        vertical-align: middle;\n",
       "    }\n",
       "\n",
       "    .dataframe tbody tr th {\n",
       "        vertical-align: top;\n",
       "    }\n",
       "\n",
       "    .dataframe thead th {\n",
       "        text-align: right;\n",
       "    }\n",
       "</style>\n",
       "<table border=\"1\" class=\"dataframe\">\n",
       "  <thead>\n",
       "    <tr style=\"text-align: right;\">\n",
       "      <th></th>\n",
       "      <th>회사명</th>\n",
       "      <th>종목코드</th>\n",
       "      <th>업종</th>\n",
       "      <th>주요제품</th>\n",
       "      <th>상장일</th>\n",
       "      <th>결산월</th>\n",
       "      <th>대표자명</th>\n",
       "      <th>홈페이지</th>\n",
       "      <th>지역</th>\n",
       "    </tr>\n",
       "  </thead>\n",
       "  <tbody>\n",
       "    <tr>\n",
       "      <th>0</th>\n",
       "      <td>DSR</td>\n",
       "      <td>155660</td>\n",
       "      <td>1차 비철금속 제조업</td>\n",
       "      <td>합섬섬유로프</td>\n",
       "      <td>2013-05-15</td>\n",
       "      <td>12월</td>\n",
       "      <td>홍석빈</td>\n",
       "      <td>http://www.dsr.com</td>\n",
       "      <td>부산광역시</td>\n",
       "    </tr>\n",
       "    <tr>\n",
       "      <th>1</th>\n",
       "      <td>GS</td>\n",
       "      <td>78930</td>\n",
       "      <td>기타 금융업</td>\n",
       "      <td>지주회사/부동산 임대</td>\n",
       "      <td>2004-08-05</td>\n",
       "      <td>12월</td>\n",
       "      <td>허태수, 홍순기 (각자 대표이사)</td>\n",
       "      <td>NaN</td>\n",
       "      <td>서울특별시</td>\n",
       "    </tr>\n",
       "    <tr>\n",
       "      <th>2</th>\n",
       "      <td>GS글로벌</td>\n",
       "      <td>1250</td>\n",
       "      <td>상품 종합 도매업</td>\n",
       "      <td>수출입업(시멘트,철강금속,전기전자,섬유,기계화학),상품중개,광업,채석업/하수처리 서...</td>\n",
       "      <td>1976-06-26</td>\n",
       "      <td>12월</td>\n",
       "      <td>김태형</td>\n",
       "      <td>http://www.gsgcorp.com</td>\n",
       "      <td>서울특별시</td>\n",
       "    </tr>\n",
       "    <tr>\n",
       "      <th>3</th>\n",
       "      <td>HDC현대산업개발</td>\n",
       "      <td>294870</td>\n",
       "      <td>건물 건설업</td>\n",
       "      <td>외주주택, 자체공사, 일반건축, 토목 등</td>\n",
       "      <td>2018-06-12</td>\n",
       "      <td>12월</td>\n",
       "      <td>권순호, 정경구</td>\n",
       "      <td>http://www.hdc-dvp.com</td>\n",
       "      <td>서울특별시</td>\n",
       "    </tr>\n",
       "    <tr>\n",
       "      <th>4</th>\n",
       "      <td>LG이노텍</td>\n",
       "      <td>11070</td>\n",
       "      <td>전자부품 제조업</td>\n",
       "      <td>기타 전자부품 제조업</td>\n",
       "      <td>2008-07-24</td>\n",
       "      <td>12월</td>\n",
       "      <td>정철동</td>\n",
       "      <td>http://www.lginnotek.co.kr</td>\n",
       "      <td>서울특별시</td>\n",
       "    </tr>\n",
       "  </tbody>\n",
       "</table>\n",
       "</div>"
      ],
      "text/plain": [
       "         회사명    종목코드           업종  \\\n",
       "0        DSR  155660  1차 비철금속 제조업   \n",
       "1         GS   78930       기타 금융업   \n",
       "2      GS글로벌    1250    상품 종합 도매업   \n",
       "3  HDC현대산업개발  294870       건물 건설업   \n",
       "4      LG이노텍   11070     전자부품 제조업   \n",
       "\n",
       "                                                주요제품         상장일  결산월  \\\n",
       "0                                             합섬섬유로프  2013-05-15  12월   \n",
       "1                                        지주회사/부동산 임대  2004-08-05  12월   \n",
       "2  수출입업(시멘트,철강금속,전기전자,섬유,기계화학),상품중개,광업,채석업/하수처리 서...  1976-06-26  12월   \n",
       "3                             외주주택, 자체공사, 일반건축, 토목 등  2018-06-12  12월   \n",
       "4                                        기타 전자부품 제조업  2008-07-24  12월   \n",
       "\n",
       "                 대표자명                        홈페이지     지역  \n",
       "0                 홍석빈          http://www.dsr.com  부산광역시  \n",
       "1  허태수, 홍순기 (각자 대표이사)                         NaN  서울특별시  \n",
       "2                 김태형      http://www.gsgcorp.com  서울특별시  \n",
       "3            권순호, 정경구      http://www.hdc-dvp.com  서울특별시  \n",
       "4                 정철동  http://www.lginnotek.co.kr  서울특별시  "
      ]
     },
     "execution_count": 3,
     "metadata": {},
     "output_type": "execute_result"
    }
   ],
   "source": [
    "stock_code.head()"
   ]
  },
  {
   "cell_type": "markdown",
   "metadata": {},
   "source": [
    "국내 주식시장의 종목코드는 6자리 이다. 예를 들어 `GS글로벌`의 종목코드는 `001250`이다.  \n",
    "그런데 저장된 종목코드는 앞자리 0이 생략되어 있다. `map`함수로 6자리를 완성한다."
   ]
  },
  {
   "cell_type": "code",
   "execution_count": 4,
   "metadata": {},
   "outputs": [],
   "source": [
    "stock_code['종목코드'] = stock_code['종목코드'].map('{:06d}'.format)\n",
    "# 종목코드가 6자리이기 때문에 6자리를 맞춰주기 위해 설정해줌"
   ]
  },
  {
   "cell_type": "markdown",
   "metadata": {},
   "source": [
    "분석에 필요한 컬럼만 추출하고, 컬럼명을 영어로 수정한다. "
   ]
  },
  {
   "cell_type": "code",
   "execution_count": 5,
   "metadata": {},
   "outputs": [],
   "source": [
    "stock_code = stock_code[['회사명', '종목코드', '업종', '주요제품']]\n",
    "stock_code = stock_code.rename(columns = {'회사명':'name', '종목코드':'code', '업종':'sectors',\n",
    "                                         '주요제품': 'products'})"
   ]
  },
  {
   "cell_type": "code",
   "execution_count": 6,
   "metadata": {},
   "outputs": [
    {
     "data": {
      "text/html": [
       "<div>\n",
       "<style scoped>\n",
       "    .dataframe tbody tr th:only-of-type {\n",
       "        vertical-align: middle;\n",
       "    }\n",
       "\n",
       "    .dataframe tbody tr th {\n",
       "        vertical-align: top;\n",
       "    }\n",
       "\n",
       "    .dataframe thead th {\n",
       "        text-align: right;\n",
       "    }\n",
       "</style>\n",
       "<table border=\"1\" class=\"dataframe\">\n",
       "  <thead>\n",
       "    <tr style=\"text-align: right;\">\n",
       "      <th></th>\n",
       "      <th>name</th>\n",
       "      <th>code</th>\n",
       "      <th>sectors</th>\n",
       "      <th>products</th>\n",
       "    </tr>\n",
       "  </thead>\n",
       "  <tbody>\n",
       "    <tr>\n",
       "      <th>0</th>\n",
       "      <td>DSR</td>\n",
       "      <td>155660</td>\n",
       "      <td>1차 비철금속 제조업</td>\n",
       "      <td>합섬섬유로프</td>\n",
       "    </tr>\n",
       "    <tr>\n",
       "      <th>1</th>\n",
       "      <td>GS</td>\n",
       "      <td>078930</td>\n",
       "      <td>기타 금융업</td>\n",
       "      <td>지주회사/부동산 임대</td>\n",
       "    </tr>\n",
       "    <tr>\n",
       "      <th>2</th>\n",
       "      <td>GS글로벌</td>\n",
       "      <td>001250</td>\n",
       "      <td>상품 종합 도매업</td>\n",
       "      <td>수출입업(시멘트,철강금속,전기전자,섬유,기계화학),상품중개,광업,채석업/하수처리 서...</td>\n",
       "    </tr>\n",
       "    <tr>\n",
       "      <th>3</th>\n",
       "      <td>HDC현대산업개발</td>\n",
       "      <td>294870</td>\n",
       "      <td>건물 건설업</td>\n",
       "      <td>외주주택, 자체공사, 일반건축, 토목 등</td>\n",
       "    </tr>\n",
       "    <tr>\n",
       "      <th>4</th>\n",
       "      <td>LG이노텍</td>\n",
       "      <td>011070</td>\n",
       "      <td>전자부품 제조업</td>\n",
       "      <td>기타 전자부품 제조업</td>\n",
       "    </tr>\n",
       "  </tbody>\n",
       "</table>\n",
       "</div>"
      ],
      "text/plain": [
       "        name    code      sectors  \\\n",
       "0        DSR  155660  1차 비철금속 제조업   \n",
       "1         GS  078930       기타 금융업   \n",
       "2      GS글로벌  001250    상품 종합 도매업   \n",
       "3  HDC현대산업개발  294870       건물 건설업   \n",
       "4      LG이노텍  011070     전자부품 제조업   \n",
       "\n",
       "                                            products  \n",
       "0                                             합섬섬유로프  \n",
       "1                                        지주회사/부동산 임대  \n",
       "2  수출입업(시멘트,철강금속,전기전자,섬유,기계화학),상품중개,광업,채석업/하수처리 서...  \n",
       "3                             외주주택, 자체공사, 일반건축, 토목 등  \n",
       "4                                        기타 전자부품 제조업  "
      ]
     },
     "execution_count": 6,
     "metadata": {},
     "output_type": "execute_result"
    }
   ],
   "source": [
    "stock_code.head()"
   ]
  },
  {
   "cell_type": "code",
   "execution_count": 7,
   "metadata": {},
   "outputs": [
    {
     "data": {
      "text/plain": [
       "(2353, 4)"
      ]
     },
     "execution_count": 7,
     "metadata": {},
     "output_type": "execute_result"
    }
   ],
   "source": [
    "stock_code.shape"
   ]
  },
  {
   "cell_type": "markdown",
   "metadata": {},
   "source": [
    "데이터를 `csv` 확장자 파일로 저장한다."
   ]
  },
  {
   "cell_type": "code",
   "execution_count": 8,
   "metadata": {},
   "outputs": [],
   "source": [
    "stock_code.to_csv('data/stock_code.csv', index=False)"
   ]
  },
  {
   "cell_type": "code",
   "execution_count": 9,
   "metadata": {},
   "outputs": [
    {
     "data": {
      "text/html": [
       "<div>\n",
       "<style scoped>\n",
       "    .dataframe tbody tr th:only-of-type {\n",
       "        vertical-align: middle;\n",
       "    }\n",
       "\n",
       "    .dataframe tbody tr th {\n",
       "        vertical-align: top;\n",
       "    }\n",
       "\n",
       "    .dataframe thead th {\n",
       "        text-align: right;\n",
       "    }\n",
       "</style>\n",
       "<table border=\"1\" class=\"dataframe\">\n",
       "  <thead>\n",
       "    <tr style=\"text-align: right;\">\n",
       "      <th></th>\n",
       "      <th>name</th>\n",
       "      <th>code</th>\n",
       "      <th>sectors</th>\n",
       "      <th>products</th>\n",
       "    </tr>\n",
       "  </thead>\n",
       "  <tbody>\n",
       "    <tr>\n",
       "      <th>0</th>\n",
       "      <td>DSR</td>\n",
       "      <td>155660</td>\n",
       "      <td>1차 비철금속 제조업</td>\n",
       "      <td>합섬섬유로프</td>\n",
       "    </tr>\n",
       "    <tr>\n",
       "      <th>1</th>\n",
       "      <td>GS</td>\n",
       "      <td>78930</td>\n",
       "      <td>기타 금융업</td>\n",
       "      <td>지주회사/부동산 임대</td>\n",
       "    </tr>\n",
       "    <tr>\n",
       "      <th>2</th>\n",
       "      <td>GS글로벌</td>\n",
       "      <td>1250</td>\n",
       "      <td>상품 종합 도매업</td>\n",
       "      <td>수출입업(시멘트,철강금속,전기전자,섬유,기계화학),상품중개,광업,채석업/하수처리 서...</td>\n",
       "    </tr>\n",
       "    <tr>\n",
       "      <th>3</th>\n",
       "      <td>HDC현대산업개발</td>\n",
       "      <td>294870</td>\n",
       "      <td>건물 건설업</td>\n",
       "      <td>외주주택, 자체공사, 일반건축, 토목 등</td>\n",
       "    </tr>\n",
       "    <tr>\n",
       "      <th>4</th>\n",
       "      <td>LG이노텍</td>\n",
       "      <td>11070</td>\n",
       "      <td>전자부품 제조업</td>\n",
       "      <td>기타 전자부품 제조업</td>\n",
       "    </tr>\n",
       "  </tbody>\n",
       "</table>\n",
       "</div>"
      ],
      "text/plain": [
       "        name    code      sectors  \\\n",
       "0        DSR  155660  1차 비철금속 제조업   \n",
       "1         GS   78930       기타 금융업   \n",
       "2      GS글로벌    1250    상품 종합 도매업   \n",
       "3  HDC현대산업개발  294870       건물 건설업   \n",
       "4      LG이노텍   11070     전자부품 제조업   \n",
       "\n",
       "                                            products  \n",
       "0                                             합섬섬유로프  \n",
       "1                                        지주회사/부동산 임대  \n",
       "2  수출입업(시멘트,철강금속,전기전자,섬유,기계화학),상품중개,광업,채석업/하수처리 서...  \n",
       "3                             외주주택, 자체공사, 일반건축, 토목 등  \n",
       "4                                        기타 전자부품 제조업  "
      ]
     },
     "execution_count": 9,
     "metadata": {},
     "output_type": "execute_result"
    }
   ],
   "source": [
    "pd.read_csv('data/stock_code.csv').head()"
   ]
  },
  {
   "cell_type": "code",
   "execution_count": null,
   "metadata": {},
   "outputs": [],
   "source": []
  },
  {
   "cell_type": "markdown",
   "metadata": {},
   "source": [
    "### 1. 네이버금융에서 종목 데이터 가져오기  \n",
    "- 참고자료 : https://excelsior-cjh.tistory.com/109"
   ]
  },
  {
   "cell_type": "markdown",
   "metadata": {},
   "source": [
    "네이버금융(finance.naver.com)에 접속하여 `삼성전자`를 검색해본다."
   ]
  },
  {
   "cell_type": "markdown",
   "metadata": {},
   "source": [
    "<img src ='./pic/1.2.jpg' width = 600>"
   ]
  },
  {
   "cell_type": "markdown",
   "metadata": {},
   "source": [
    "아래 쪽에 `시세` 버튼을 클릭한다."
   ]
  },
  {
   "cell_type": "markdown",
   "metadata": {},
   "source": [
    "<img src ='./pic/1.3.jpg' width = 600>"
   ]
  },
  {
   "cell_type": "markdown",
   "metadata": {},
   "source": [
    "페이지 아래쪽에 일별 시세가 표시된다.  \n",
    "그리고 이 페이지의 주소는  \n",
    "`https://finance.naver.com/item/sise.nhn?code=` `종목코드` 로 구성되어 있다.  \n",
    "예를들어 삼성전자의 시세 페이지 주소는  \n",
    "`https://finance.naver.com/item/sise.nhn?code=005930` 이다.   \n",
    "<img src ='./pic/1.4.jpg' width = 600>"
   ]
  },
  {
   "cell_type": "markdown",
   "metadata": {},
   "source": [
    "이 페이지에서 시세정보는 시간대별 시세, 일별 시세 두가지가 있다.  \n",
    "우리는 일별 시세에 관심이 있다.  \n",
    "소스를 살펴보면 일별 시세 정보는 `http://finance.naver.com/item/sise_day.nhn?code=005930`에 있는 것을 확인 할 수가 있다.  \n",
    "그리고 이 일별 시세 정보는 html에서 `table`로 정의되어 있으므로 `pandas`의 `read_html`을 사용하여 읽어올 수가 있다.  \n",
    "<img src ='./pic/1.6.jpg' width = 1000>\n",
    "<img src ='./pic/1.5.jpg' width = 1000>"
   ]
  },
  {
   "cell_type": "markdown",
   "metadata": {},
   "source": [
    "예를들어 시세의 첫번째 페이지 주소는 `http://finance.naver.com/item/sise_day.nhn?code=005930&page=1`이다.  "
   ]
  },
  {
   "cell_type": "markdown",
   "metadata": {},
   "source": [
    "먼저 원하는 종목의 시제정보 주소를 리턴하는 함수를 만든다."
   ]
  },
  {
   "cell_type": "code",
   "execution_count": 10,
   "metadata": {},
   "outputs": [],
   "source": [
    "def get_url(item_name, stock_code): \n",
    "    code = stock_code.query(\"name=='{}'\".format(item_name))['code'].to_string(index=False) \n",
    "    url = 'http://finance.naver.com/item/sise_day.nhn?code={}'.format(code)\n",
    "    url = url.replace(\" \", \"\") #code 뒤에 공백이 생겨, 함수를 추가함\n",
    "    print(\"요청 URL = {}\".format(url)) \n",
    "    return url"
   ]
  },
  {
   "cell_type": "markdown",
   "metadata": {},
   "source": [
    "`삼성전자`의 시세정보 페이지 주소를 리턴하는 함수를 시험해본다."
   ]
  },
  {
   "cell_type": "code",
   "execution_count": 11,
   "metadata": {},
   "outputs": [
    {
     "name": "stdout",
     "output_type": "stream",
     "text": [
      "요청 URL = http://finance.naver.com/item/sise_day.nhn?code=005930\n"
     ]
    }
   ],
   "source": [
    "item_name = '삼성전자'\n",
    "url = get_url(item_name, stock_code)"
   ]
  },
  {
   "cell_type": "markdown",
   "metadata": {},
   "source": [
    "이제 `read_html()`을 사용하여 일별 시세 정보를 읽어온다.  \n",
    "여기서는 1 ~ 20 페이지 까지의 정보를 읽어 오도록 한다."
   ]
  },
  {
   "cell_type": "code",
   "execution_count": 12,
   "metadata": {},
   "outputs": [],
   "source": [
    "stock_data = pd.DataFrame()\n",
    "for page in range(1, 21): # 1 ~ 20페이지만 가져오기\n",
    "    pg_url = '{url}&page={page}'.format(url=url, page=page)\n",
    "    temp = pd.read_html(pg_url, header=0)[0]\n",
    "    stock_data = stock_data.append(temp, ignore_index=True)"
   ]
  },
  {
   "cell_type": "code",
   "execution_count": 13,
   "metadata": {},
   "outputs": [
    {
     "data": {
      "text/html": [
       "<div>\n",
       "<style scoped>\n",
       "    .dataframe tbody tr th:only-of-type {\n",
       "        vertical-align: middle;\n",
       "    }\n",
       "\n",
       "    .dataframe tbody tr th {\n",
       "        vertical-align: top;\n",
       "    }\n",
       "\n",
       "    .dataframe thead th {\n",
       "        text-align: right;\n",
       "    }\n",
       "</style>\n",
       "<table border=\"1\" class=\"dataframe\">\n",
       "  <thead>\n",
       "    <tr style=\"text-align: right;\">\n",
       "      <th></th>\n",
       "      <th>날짜</th>\n",
       "      <th>종가</th>\n",
       "      <th>전일비</th>\n",
       "      <th>시가</th>\n",
       "      <th>고가</th>\n",
       "      <th>저가</th>\n",
       "      <th>거래량</th>\n",
       "    </tr>\n",
       "  </thead>\n",
       "  <tbody>\n",
       "    <tr>\n",
       "      <th>0</th>\n",
       "      <td>NaN</td>\n",
       "      <td>NaN</td>\n",
       "      <td>NaN</td>\n",
       "      <td>NaN</td>\n",
       "      <td>NaN</td>\n",
       "      <td>NaN</td>\n",
       "      <td>NaN</td>\n",
       "    </tr>\n",
       "    <tr>\n",
       "      <th>1</th>\n",
       "      <td>2020.07.21</td>\n",
       "      <td>55300.0</td>\n",
       "      <td>1100.0</td>\n",
       "      <td>55200.0</td>\n",
       "      <td>55400.0</td>\n",
       "      <td>54800.0</td>\n",
       "      <td>18194959.0</td>\n",
       "    </tr>\n",
       "    <tr>\n",
       "      <th>2</th>\n",
       "      <td>2020.07.20</td>\n",
       "      <td>54200.0</td>\n",
       "      <td>200.0</td>\n",
       "      <td>54800.0</td>\n",
       "      <td>54800.0</td>\n",
       "      <td>54000.0</td>\n",
       "      <td>10507530.0</td>\n",
       "    </tr>\n",
       "    <tr>\n",
       "      <th>3</th>\n",
       "      <td>2020.07.17</td>\n",
       "      <td>54400.0</td>\n",
       "      <td>600.0</td>\n",
       "      <td>54200.0</td>\n",
       "      <td>54700.0</td>\n",
       "      <td>54100.0</td>\n",
       "      <td>10096174.0</td>\n",
       "    </tr>\n",
       "    <tr>\n",
       "      <th>4</th>\n",
       "      <td>2020.07.16</td>\n",
       "      <td>53800.0</td>\n",
       "      <td>900.0</td>\n",
       "      <td>54800.0</td>\n",
       "      <td>54800.0</td>\n",
       "      <td>53800.0</td>\n",
       "      <td>16779127.0</td>\n",
       "    </tr>\n",
       "  </tbody>\n",
       "</table>\n",
       "</div>"
      ],
      "text/plain": [
       "           날짜       종가     전일비       시가       고가       저가         거래량\n",
       "0         NaN      NaN     NaN      NaN      NaN      NaN         NaN\n",
       "1  2020.07.21  55300.0  1100.0  55200.0  55400.0  54800.0  18194959.0\n",
       "2  2020.07.20  54200.0   200.0  54800.0  54800.0  54000.0  10507530.0\n",
       "3  2020.07.17  54400.0   600.0  54200.0  54700.0  54100.0  10096174.0\n",
       "4  2020.07.16  53800.0   900.0  54800.0  54800.0  53800.0  16779127.0"
      ]
     },
     "execution_count": 13,
     "metadata": {},
     "output_type": "execute_result"
    }
   ],
   "source": [
    "stock_data.head()"
   ]
  },
  {
   "cell_type": "code",
   "execution_count": 14,
   "metadata": {},
   "outputs": [
    {
     "data": {
      "text/html": [
       "<div>\n",
       "<style scoped>\n",
       "    .dataframe tbody tr th:only-of-type {\n",
       "        vertical-align: middle;\n",
       "    }\n",
       "\n",
       "    .dataframe tbody tr th {\n",
       "        vertical-align: top;\n",
       "    }\n",
       "\n",
       "    .dataframe thead th {\n",
       "        text-align: right;\n",
       "    }\n",
       "</style>\n",
       "<table border=\"1\" class=\"dataframe\">\n",
       "  <thead>\n",
       "    <tr style=\"text-align: right;\">\n",
       "      <th></th>\n",
       "      <th>날짜</th>\n",
       "      <th>종가</th>\n",
       "      <th>전일비</th>\n",
       "      <th>시가</th>\n",
       "      <th>고가</th>\n",
       "      <th>저가</th>\n",
       "      <th>거래량</th>\n",
       "    </tr>\n",
       "  </thead>\n",
       "  <tbody>\n",
       "    <tr>\n",
       "      <th>295</th>\n",
       "      <td>2019.10.07</td>\n",
       "      <td>47750.0</td>\n",
       "      <td>250.0</td>\n",
       "      <td>48350.0</td>\n",
       "      <td>48700.0</td>\n",
       "      <td>47650.0</td>\n",
       "      <td>7047273.0</td>\n",
       "    </tr>\n",
       "    <tr>\n",
       "      <th>296</th>\n",
       "      <td>2019.10.04</td>\n",
       "      <td>48000.0</td>\n",
       "      <td>400.0</td>\n",
       "      <td>47400.0</td>\n",
       "      <td>48650.0</td>\n",
       "      <td>47350.0</td>\n",
       "      <td>9331695.0</td>\n",
       "    </tr>\n",
       "    <tr>\n",
       "      <th>297</th>\n",
       "      <td>2019.10.02</td>\n",
       "      <td>47600.0</td>\n",
       "      <td>1250.0</td>\n",
       "      <td>48350.0</td>\n",
       "      <td>48400.0</td>\n",
       "      <td>47600.0</td>\n",
       "      <td>8382463.0</td>\n",
       "    </tr>\n",
       "    <tr>\n",
       "      <th>298</th>\n",
       "      <td>2019.10.01</td>\n",
       "      <td>48850.0</td>\n",
       "      <td>200.0</td>\n",
       "      <td>48900.0</td>\n",
       "      <td>49100.0</td>\n",
       "      <td>48650.0</td>\n",
       "      <td>6206035.0</td>\n",
       "    </tr>\n",
       "    <tr>\n",
       "      <th>299</th>\n",
       "      <td>NaN</td>\n",
       "      <td>NaN</td>\n",
       "      <td>NaN</td>\n",
       "      <td>NaN</td>\n",
       "      <td>NaN</td>\n",
       "      <td>NaN</td>\n",
       "      <td>NaN</td>\n",
       "    </tr>\n",
       "  </tbody>\n",
       "</table>\n",
       "</div>"
      ],
      "text/plain": [
       "             날짜       종가     전일비       시가       고가       저가        거래량\n",
       "295  2019.10.07  47750.0   250.0  48350.0  48700.0  47650.0  7047273.0\n",
       "296  2019.10.04  48000.0   400.0  47400.0  48650.0  47350.0  9331695.0\n",
       "297  2019.10.02  47600.0  1250.0  48350.0  48400.0  47600.0  8382463.0\n",
       "298  2019.10.01  48850.0   200.0  48900.0  49100.0  48650.0  6206035.0\n",
       "299         NaN      NaN     NaN      NaN      NaN      NaN        NaN"
      ]
     },
     "execution_count": 14,
     "metadata": {},
     "output_type": "execute_result"
    }
   ],
   "source": [
    "stock_data.tail()"
   ]
  },
  {
   "cell_type": "markdown",
   "metadata": {},
   "source": [
    "- 페이지당 (15*페이지수-2)일치의 정보가 저장된다.  \n",
    "- 위의 예에서는 15*20페이지-2 = 298일치의 정보가 저장되었다."
   ]
  },
  {
   "cell_type": "markdown",
   "metadata": {},
   "source": [
    "컬럼명과 데이터 타입을 변경한다."
   ]
  },
  {
   "cell_type": "code",
   "execution_count": 15,
   "metadata": {},
   "outputs": [],
   "source": [
    "# 한글로 된 컬럼명을 영어로 바꿔줌 \n",
    "stock_data = stock_data.rename(columns= {'날짜': 'date', '종가': 'close', '전일비': 'diff', \n",
    "        '시가': 'open', '고가': 'high', '저가': 'low', '거래량': 'volume'}) \n",
    "\n",
    "# 데이터의 타입을 int형으로 바꿔줌 \n",
    "stock_data[['close', 'diff', 'open', 'high', 'low', 'volume']] = stock_data[['close', 'diff', \n",
    "                            'open', 'high', 'low', 'volume']].astype('float64')"
   ]
  },
  {
   "cell_type": "code",
   "execution_count": 16,
   "metadata": {},
   "outputs": [
    {
     "data": {
      "text/html": [
       "<div>\n",
       "<style scoped>\n",
       "    .dataframe tbody tr th:only-of-type {\n",
       "        vertical-align: middle;\n",
       "    }\n",
       "\n",
       "    .dataframe tbody tr th {\n",
       "        vertical-align: top;\n",
       "    }\n",
       "\n",
       "    .dataframe thead th {\n",
       "        text-align: right;\n",
       "    }\n",
       "</style>\n",
       "<table border=\"1\" class=\"dataframe\">\n",
       "  <thead>\n",
       "    <tr style=\"text-align: right;\">\n",
       "      <th></th>\n",
       "      <th>date</th>\n",
       "      <th>close</th>\n",
       "      <th>diff</th>\n",
       "      <th>open</th>\n",
       "      <th>high</th>\n",
       "      <th>low</th>\n",
       "      <th>volume</th>\n",
       "    </tr>\n",
       "  </thead>\n",
       "  <tbody>\n",
       "    <tr>\n",
       "      <th>0</th>\n",
       "      <td>NaN</td>\n",
       "      <td>NaN</td>\n",
       "      <td>NaN</td>\n",
       "      <td>NaN</td>\n",
       "      <td>NaN</td>\n",
       "      <td>NaN</td>\n",
       "      <td>NaN</td>\n",
       "    </tr>\n",
       "    <tr>\n",
       "      <th>1</th>\n",
       "      <td>2020.07.21</td>\n",
       "      <td>55300.0</td>\n",
       "      <td>1100.0</td>\n",
       "      <td>55200.0</td>\n",
       "      <td>55400.0</td>\n",
       "      <td>54800.0</td>\n",
       "      <td>18194959.0</td>\n",
       "    </tr>\n",
       "    <tr>\n",
       "      <th>2</th>\n",
       "      <td>2020.07.20</td>\n",
       "      <td>54200.0</td>\n",
       "      <td>200.0</td>\n",
       "      <td>54800.0</td>\n",
       "      <td>54800.0</td>\n",
       "      <td>54000.0</td>\n",
       "      <td>10507530.0</td>\n",
       "    </tr>\n",
       "    <tr>\n",
       "      <th>3</th>\n",
       "      <td>2020.07.17</td>\n",
       "      <td>54400.0</td>\n",
       "      <td>600.0</td>\n",
       "      <td>54200.0</td>\n",
       "      <td>54700.0</td>\n",
       "      <td>54100.0</td>\n",
       "      <td>10096174.0</td>\n",
       "    </tr>\n",
       "    <tr>\n",
       "      <th>4</th>\n",
       "      <td>2020.07.16</td>\n",
       "      <td>53800.0</td>\n",
       "      <td>900.0</td>\n",
       "      <td>54800.0</td>\n",
       "      <td>54800.0</td>\n",
       "      <td>53800.0</td>\n",
       "      <td>16779127.0</td>\n",
       "    </tr>\n",
       "  </tbody>\n",
       "</table>\n",
       "</div>"
      ],
      "text/plain": [
       "         date    close    diff     open     high      low      volume\n",
       "0         NaN      NaN     NaN      NaN      NaN      NaN         NaN\n",
       "1  2020.07.21  55300.0  1100.0  55200.0  55400.0  54800.0  18194959.0\n",
       "2  2020.07.20  54200.0   200.0  54800.0  54800.0  54000.0  10507530.0\n",
       "3  2020.07.17  54400.0   600.0  54200.0  54700.0  54100.0  10096174.0\n",
       "4  2020.07.16  53800.0   900.0  54800.0  54800.0  53800.0  16779127.0"
      ]
     },
     "execution_count": 16,
     "metadata": {},
     "output_type": "execute_result"
    }
   ],
   "source": [
    "stock_data.head()"
   ]
  },
  {
   "cell_type": "markdown",
   "metadata": {},
   "source": [
    "`date` 컬럼을 datetime 타입으로 변경한다."
   ]
  },
  {
   "cell_type": "code",
   "execution_count": 17,
   "metadata": {},
   "outputs": [],
   "source": [
    "stock_data['date'] = pd.to_datetime(stock_data['date'])"
   ]
  },
  {
   "cell_type": "code",
   "execution_count": 18,
   "metadata": {},
   "outputs": [
    {
     "name": "stdout",
     "output_type": "stream",
     "text": [
      "<class 'pandas.core.frame.DataFrame'>\n",
      "RangeIndex: 300 entries, 0 to 299\n",
      "Data columns (total 7 columns):\n",
      " #   Column  Non-Null Count  Dtype         \n",
      "---  ------  --------------  -----         \n",
      " 0   date    200 non-null    datetime64[ns]\n",
      " 1   close   200 non-null    float64       \n",
      " 2   diff    200 non-null    float64       \n",
      " 3   open    200 non-null    float64       \n",
      " 4   high    200 non-null    float64       \n",
      " 5   low     200 non-null    float64       \n",
      " 6   volume  200 non-null    float64       \n",
      "dtypes: datetime64[ns](1), float64(6)\n",
      "memory usage: 16.5 KB\n"
     ]
    }
   ],
   "source": [
    "stock_data.info()"
   ]
  },
  {
   "cell_type": "markdown",
   "metadata": {},
   "source": [
    "결측치를 제거한다."
   ]
  },
  {
   "cell_type": "code",
   "execution_count": 19,
   "metadata": {},
   "outputs": [],
   "source": [
    "stock_data = stock_data.dropna(how = 'any')"
   ]
  },
  {
   "cell_type": "code",
   "execution_count": 20,
   "metadata": {},
   "outputs": [
    {
     "data": {
      "text/html": [
       "<div>\n",
       "<style scoped>\n",
       "    .dataframe tbody tr th:only-of-type {\n",
       "        vertical-align: middle;\n",
       "    }\n",
       "\n",
       "    .dataframe tbody tr th {\n",
       "        vertical-align: top;\n",
       "    }\n",
       "\n",
       "    .dataframe thead th {\n",
       "        text-align: right;\n",
       "    }\n",
       "</style>\n",
       "<table border=\"1\" class=\"dataframe\">\n",
       "  <thead>\n",
       "    <tr style=\"text-align: right;\">\n",
       "      <th></th>\n",
       "      <th>date</th>\n",
       "      <th>close</th>\n",
       "      <th>diff</th>\n",
       "      <th>open</th>\n",
       "      <th>high</th>\n",
       "      <th>low</th>\n",
       "      <th>volume</th>\n",
       "    </tr>\n",
       "  </thead>\n",
       "  <tbody>\n",
       "    <tr>\n",
       "      <th>1</th>\n",
       "      <td>2020-07-21</td>\n",
       "      <td>55300.0</td>\n",
       "      <td>1100.0</td>\n",
       "      <td>55200.0</td>\n",
       "      <td>55400.0</td>\n",
       "      <td>54800.0</td>\n",
       "      <td>18194959.0</td>\n",
       "    </tr>\n",
       "    <tr>\n",
       "      <th>2</th>\n",
       "      <td>2020-07-20</td>\n",
       "      <td>54200.0</td>\n",
       "      <td>200.0</td>\n",
       "      <td>54800.0</td>\n",
       "      <td>54800.0</td>\n",
       "      <td>54000.0</td>\n",
       "      <td>10507530.0</td>\n",
       "    </tr>\n",
       "    <tr>\n",
       "      <th>3</th>\n",
       "      <td>2020-07-17</td>\n",
       "      <td>54400.0</td>\n",
       "      <td>600.0</td>\n",
       "      <td>54200.0</td>\n",
       "      <td>54700.0</td>\n",
       "      <td>54100.0</td>\n",
       "      <td>10096174.0</td>\n",
       "    </tr>\n",
       "    <tr>\n",
       "      <th>4</th>\n",
       "      <td>2020-07-16</td>\n",
       "      <td>53800.0</td>\n",
       "      <td>900.0</td>\n",
       "      <td>54800.0</td>\n",
       "      <td>54800.0</td>\n",
       "      <td>53800.0</td>\n",
       "      <td>16779127.0</td>\n",
       "    </tr>\n",
       "    <tr>\n",
       "      <th>5</th>\n",
       "      <td>2020-07-15</td>\n",
       "      <td>54700.0</td>\n",
       "      <td>900.0</td>\n",
       "      <td>54400.0</td>\n",
       "      <td>55000.0</td>\n",
       "      <td>54300.0</td>\n",
       "      <td>24051450.0</td>\n",
       "    </tr>\n",
       "  </tbody>\n",
       "</table>\n",
       "</div>"
      ],
      "text/plain": [
       "        date    close    diff     open     high      low      volume\n",
       "1 2020-07-21  55300.0  1100.0  55200.0  55400.0  54800.0  18194959.0\n",
       "2 2020-07-20  54200.0   200.0  54800.0  54800.0  54000.0  10507530.0\n",
       "3 2020-07-17  54400.0   600.0  54200.0  54700.0  54100.0  10096174.0\n",
       "4 2020-07-16  53800.0   900.0  54800.0  54800.0  53800.0  16779127.0\n",
       "5 2020-07-15  54700.0   900.0  54400.0  55000.0  54300.0  24051450.0"
      ]
     },
     "execution_count": 20,
     "metadata": {},
     "output_type": "execute_result"
    }
   ],
   "source": [
    "stock_data.head()"
   ]
  },
  {
   "cell_type": "markdown",
   "metadata": {},
   "source": [
    "데이터를 날짜순으로 정렬한다."
   ]
  },
  {
   "cell_type": "code",
   "execution_count": 21,
   "metadata": {},
   "outputs": [],
   "source": [
    "stock_data = stock_data.sort_values(by = 'date')"
   ]
  },
  {
   "cell_type": "code",
   "execution_count": 22,
   "metadata": {},
   "outputs": [
    {
     "data": {
      "text/html": [
       "<div>\n",
       "<style scoped>\n",
       "    .dataframe tbody tr th:only-of-type {\n",
       "        vertical-align: middle;\n",
       "    }\n",
       "\n",
       "    .dataframe tbody tr th {\n",
       "        vertical-align: top;\n",
       "    }\n",
       "\n",
       "    .dataframe thead th {\n",
       "        text-align: right;\n",
       "    }\n",
       "</style>\n",
       "<table border=\"1\" class=\"dataframe\">\n",
       "  <thead>\n",
       "    <tr style=\"text-align: right;\">\n",
       "      <th></th>\n",
       "      <th>date</th>\n",
       "      <th>close</th>\n",
       "      <th>diff</th>\n",
       "      <th>open</th>\n",
       "      <th>high</th>\n",
       "      <th>low</th>\n",
       "      <th>volume</th>\n",
       "    </tr>\n",
       "  </thead>\n",
       "  <tbody>\n",
       "    <tr>\n",
       "      <th>298</th>\n",
       "      <td>2019-10-01</td>\n",
       "      <td>48850.0</td>\n",
       "      <td>200.0</td>\n",
       "      <td>48900.0</td>\n",
       "      <td>49100.0</td>\n",
       "      <td>48650.0</td>\n",
       "      <td>6206035.0</td>\n",
       "    </tr>\n",
       "    <tr>\n",
       "      <th>297</th>\n",
       "      <td>2019-10-02</td>\n",
       "      <td>47600.0</td>\n",
       "      <td>1250.0</td>\n",
       "      <td>48350.0</td>\n",
       "      <td>48400.0</td>\n",
       "      <td>47600.0</td>\n",
       "      <td>8382463.0</td>\n",
       "    </tr>\n",
       "    <tr>\n",
       "      <th>296</th>\n",
       "      <td>2019-10-04</td>\n",
       "      <td>48000.0</td>\n",
       "      <td>400.0</td>\n",
       "      <td>47400.0</td>\n",
       "      <td>48650.0</td>\n",
       "      <td>47350.0</td>\n",
       "      <td>9331695.0</td>\n",
       "    </tr>\n",
       "    <tr>\n",
       "      <th>295</th>\n",
       "      <td>2019-10-07</td>\n",
       "      <td>47750.0</td>\n",
       "      <td>250.0</td>\n",
       "      <td>48350.0</td>\n",
       "      <td>48700.0</td>\n",
       "      <td>47650.0</td>\n",
       "      <td>7047273.0</td>\n",
       "    </tr>\n",
       "    <tr>\n",
       "      <th>294</th>\n",
       "      <td>2019-10-08</td>\n",
       "      <td>48900.0</td>\n",
       "      <td>1150.0</td>\n",
       "      <td>47900.0</td>\n",
       "      <td>49000.0</td>\n",
       "      <td>47600.0</td>\n",
       "      <td>14239367.0</td>\n",
       "    </tr>\n",
       "  </tbody>\n",
       "</table>\n",
       "</div>"
      ],
      "text/plain": [
       "          date    close    diff     open     high      low      volume\n",
       "298 2019-10-01  48850.0   200.0  48900.0  49100.0  48650.0   6206035.0\n",
       "297 2019-10-02  47600.0  1250.0  48350.0  48400.0  47600.0   8382463.0\n",
       "296 2019-10-04  48000.0   400.0  47400.0  48650.0  47350.0   9331695.0\n",
       "295 2019-10-07  47750.0   250.0  48350.0  48700.0  47650.0   7047273.0\n",
       "294 2019-10-08  48900.0  1150.0  47900.0  49000.0  47600.0  14239367.0"
      ]
     },
     "execution_count": 22,
     "metadata": {},
     "output_type": "execute_result"
    }
   ],
   "source": [
    "stock_data.head()"
   ]
  },
  {
   "cell_type": "markdown",
   "metadata": {},
   "source": [
    "`date` 컬럼을 인덱스로 지정한다."
   ]
  },
  {
   "cell_type": "code",
   "execution_count": 23,
   "metadata": {},
   "outputs": [],
   "source": [
    "stock_data = stock_data.set_index(keys = 'date', drop = True)"
   ]
  },
  {
   "cell_type": "code",
   "execution_count": 24,
   "metadata": {},
   "outputs": [
    {
     "data": {
      "text/html": [
       "<div>\n",
       "<style scoped>\n",
       "    .dataframe tbody tr th:only-of-type {\n",
       "        vertical-align: middle;\n",
       "    }\n",
       "\n",
       "    .dataframe tbody tr th {\n",
       "        vertical-align: top;\n",
       "    }\n",
       "\n",
       "    .dataframe thead th {\n",
       "        text-align: right;\n",
       "    }\n",
       "</style>\n",
       "<table border=\"1\" class=\"dataframe\">\n",
       "  <thead>\n",
       "    <tr style=\"text-align: right;\">\n",
       "      <th></th>\n",
       "      <th>close</th>\n",
       "      <th>diff</th>\n",
       "      <th>open</th>\n",
       "      <th>high</th>\n",
       "      <th>low</th>\n",
       "      <th>volume</th>\n",
       "    </tr>\n",
       "    <tr>\n",
       "      <th>date</th>\n",
       "      <th></th>\n",
       "      <th></th>\n",
       "      <th></th>\n",
       "      <th></th>\n",
       "      <th></th>\n",
       "      <th></th>\n",
       "    </tr>\n",
       "  </thead>\n",
       "  <tbody>\n",
       "    <tr>\n",
       "      <th>2019-10-01</th>\n",
       "      <td>48850.0</td>\n",
       "      <td>200.0</td>\n",
       "      <td>48900.0</td>\n",
       "      <td>49100.0</td>\n",
       "      <td>48650.0</td>\n",
       "      <td>6206035.0</td>\n",
       "    </tr>\n",
       "    <tr>\n",
       "      <th>2019-10-02</th>\n",
       "      <td>47600.0</td>\n",
       "      <td>1250.0</td>\n",
       "      <td>48350.0</td>\n",
       "      <td>48400.0</td>\n",
       "      <td>47600.0</td>\n",
       "      <td>8382463.0</td>\n",
       "    </tr>\n",
       "    <tr>\n",
       "      <th>2019-10-04</th>\n",
       "      <td>48000.0</td>\n",
       "      <td>400.0</td>\n",
       "      <td>47400.0</td>\n",
       "      <td>48650.0</td>\n",
       "      <td>47350.0</td>\n",
       "      <td>9331695.0</td>\n",
       "    </tr>\n",
       "    <tr>\n",
       "      <th>2019-10-07</th>\n",
       "      <td>47750.0</td>\n",
       "      <td>250.0</td>\n",
       "      <td>48350.0</td>\n",
       "      <td>48700.0</td>\n",
       "      <td>47650.0</td>\n",
       "      <td>7047273.0</td>\n",
       "    </tr>\n",
       "    <tr>\n",
       "      <th>2019-10-08</th>\n",
       "      <td>48900.0</td>\n",
       "      <td>1150.0</td>\n",
       "      <td>47900.0</td>\n",
       "      <td>49000.0</td>\n",
       "      <td>47600.0</td>\n",
       "      <td>14239367.0</td>\n",
       "    </tr>\n",
       "  </tbody>\n",
       "</table>\n",
       "</div>"
      ],
      "text/plain": [
       "              close    diff     open     high      low      volume\n",
       "date                                                              \n",
       "2019-10-01  48850.0   200.0  48900.0  49100.0  48650.0   6206035.0\n",
       "2019-10-02  47600.0  1250.0  48350.0  48400.0  47600.0   8382463.0\n",
       "2019-10-04  48000.0   400.0  47400.0  48650.0  47350.0   9331695.0\n",
       "2019-10-07  47750.0   250.0  48350.0  48700.0  47650.0   7047273.0\n",
       "2019-10-08  48900.0  1150.0  47900.0  49000.0  47600.0  14239367.0"
      ]
     },
     "execution_count": 24,
     "metadata": {},
     "output_type": "execute_result"
    }
   ],
   "source": [
    "stock_data.head()"
   ]
  },
  {
   "cell_type": "code",
   "execution_count": null,
   "metadata": {},
   "outputs": [],
   "source": []
  },
  {
   "cell_type": "markdown",
   "metadata": {},
   "source": [
    "### 2. FinancesDateReader 사용하기  \n",
    "- 참고자료 : [[FinanceDataReader tutorial]](https://github.com/FinanceData/FinanceDataReader/blob/master/tutorial/FinanceDataReader%20Tutorial%20-%20%EC%97%AC%EB%9F%AC%20%EC%A2%85%EB%AA%A9%EC%9D%98%20%EA%B0%80%EA%B2%A9%EC%9D%84%20%ED%95%9C%EB%B2%88%EC%97%90.ipynb)"
   ]
  },
  {
   "cell_type": "code",
   "execution_count": 25,
   "metadata": {},
   "outputs": [],
   "source": [
    "# 라이브러리 설치\n",
    "# !pip -q install finance-datareader"
   ]
  },
  {
   "cell_type": "code",
   "execution_count": 26,
   "metadata": {},
   "outputs": [],
   "source": [
    "import FinanceDataReader as fdr"
   ]
  },
  {
   "cell_type": "markdown",
   "metadata": {},
   "source": [
    "FinanceDataReader 라이브러리로 주식 데이터를 받기 위해서는 종목코드를 인자로 입력해야 한다.  \n",
    "따라서 `종목명`을 입력하면 `종목 코드`를 리턴하는 함수 `get_code()`를 생성한다. "
   ]
  },
  {
   "cell_type": "code",
   "execution_count": 27,
   "metadata": {},
   "outputs": [],
   "source": [
    "def get_code(item_name, stock_code): \n",
    "    code = stock_code.loc[stock_code['name'] == item_name, 'code'] \n",
    "    return code.values[0]"
   ]
  },
  {
   "cell_type": "code",
   "execution_count": 28,
   "metadata": {},
   "outputs": [
    {
     "name": "stdout",
     "output_type": "stream",
     "text": [
      "005930\n"
     ]
    }
   ],
   "source": [
    "print(get_code('삼성전자', stock_code))"
   ]
  },
  {
   "cell_type": "code",
   "execution_count": 29,
   "metadata": {},
   "outputs": [],
   "source": [
    "item_code = get_code('삼성전자', stock_code)\n",
    "stock_data = fdr.DataReader(item_code, '2019-10-01', '2020-7-21')"
   ]
  },
  {
   "cell_type": "code",
   "execution_count": 30,
   "metadata": {},
   "outputs": [
    {
     "data": {
      "text/html": [
       "<div>\n",
       "<style scoped>\n",
       "    .dataframe tbody tr th:only-of-type {\n",
       "        vertical-align: middle;\n",
       "    }\n",
       "\n",
       "    .dataframe tbody tr th {\n",
       "        vertical-align: top;\n",
       "    }\n",
       "\n",
       "    .dataframe thead th {\n",
       "        text-align: right;\n",
       "    }\n",
       "</style>\n",
       "<table border=\"1\" class=\"dataframe\">\n",
       "  <thead>\n",
       "    <tr style=\"text-align: right;\">\n",
       "      <th></th>\n",
       "      <th>Open</th>\n",
       "      <th>High</th>\n",
       "      <th>Low</th>\n",
       "      <th>Close</th>\n",
       "      <th>Volume</th>\n",
       "      <th>Change</th>\n",
       "    </tr>\n",
       "    <tr>\n",
       "      <th>Date</th>\n",
       "      <th></th>\n",
       "      <th></th>\n",
       "      <th></th>\n",
       "      <th></th>\n",
       "      <th></th>\n",
       "      <th></th>\n",
       "    </tr>\n",
       "  </thead>\n",
       "  <tbody>\n",
       "    <tr>\n",
       "      <th>2019-10-01</th>\n",
       "      <td>48900</td>\n",
       "      <td>49100</td>\n",
       "      <td>48650</td>\n",
       "      <td>48850</td>\n",
       "      <td>6206035</td>\n",
       "      <td>-0.004077</td>\n",
       "    </tr>\n",
       "    <tr>\n",
       "      <th>2019-10-02</th>\n",
       "      <td>48350</td>\n",
       "      <td>48400</td>\n",
       "      <td>47600</td>\n",
       "      <td>47600</td>\n",
       "      <td>8382463</td>\n",
       "      <td>-0.025589</td>\n",
       "    </tr>\n",
       "    <tr>\n",
       "      <th>2019-10-04</th>\n",
       "      <td>47400</td>\n",
       "      <td>48650</td>\n",
       "      <td>47350</td>\n",
       "      <td>48000</td>\n",
       "      <td>9331695</td>\n",
       "      <td>0.008403</td>\n",
       "    </tr>\n",
       "    <tr>\n",
       "      <th>2019-10-07</th>\n",
       "      <td>48350</td>\n",
       "      <td>48700</td>\n",
       "      <td>47650</td>\n",
       "      <td>47750</td>\n",
       "      <td>7047273</td>\n",
       "      <td>-0.005208</td>\n",
       "    </tr>\n",
       "    <tr>\n",
       "      <th>2019-10-08</th>\n",
       "      <td>47900</td>\n",
       "      <td>49000</td>\n",
       "      <td>47600</td>\n",
       "      <td>48900</td>\n",
       "      <td>14239367</td>\n",
       "      <td>0.024084</td>\n",
       "    </tr>\n",
       "  </tbody>\n",
       "</table>\n",
       "</div>"
      ],
      "text/plain": [
       "             Open   High    Low  Close    Volume    Change\n",
       "Date                                                      \n",
       "2019-10-01  48900  49100  48650  48850   6206035 -0.004077\n",
       "2019-10-02  48350  48400  47600  47600   8382463 -0.025589\n",
       "2019-10-04  47400  48650  47350  48000   9331695  0.008403\n",
       "2019-10-07  48350  48700  47650  47750   7047273 -0.005208\n",
       "2019-10-08  47900  49000  47600  48900  14239367  0.024084"
      ]
     },
     "execution_count": 30,
     "metadata": {},
     "output_type": "execute_result"
    }
   ],
   "source": [
    "stock_data.head()"
   ]
  },
  {
   "cell_type": "code",
   "execution_count": 31,
   "metadata": {},
   "outputs": [
    {
     "name": "stdout",
     "output_type": "stream",
     "text": [
      "<class 'pandas.core.frame.DataFrame'>\n",
      "DatetimeIndex: 200 entries, 2019-10-01 to 2020-07-21\n",
      "Data columns (total 6 columns):\n",
      " #   Column  Non-Null Count  Dtype  \n",
      "---  ------  --------------  -----  \n",
      " 0   Open    200 non-null    int64  \n",
      " 1   High    200 non-null    int64  \n",
      " 2   Low     200 non-null    int64  \n",
      " 3   Close   200 non-null    int64  \n",
      " 4   Volume  200 non-null    int64  \n",
      " 5   Change  200 non-null    float64\n",
      "dtypes: float64(1), int64(5)\n",
      "memory usage: 10.9 KB\n"
     ]
    }
   ],
   "source": [
    "stock_data.info()"
   ]
  },
  {
   "cell_type": "code",
   "execution_count": null,
   "metadata": {},
   "outputs": [],
   "source": []
  },
  {
   "cell_type": "markdown",
   "metadata": {},
   "source": [
    "### 3. Yahoo finance 사용하기"
   ]
  },
  {
   "cell_type": "markdown",
   "metadata": {},
   "source": [
    "- **작성중**"
   ]
  },
  {
   "cell_type": "code",
   "execution_count": null,
   "metadata": {},
   "outputs": [],
   "source": []
  }
 ],
 "metadata": {
  "kernelspec": {
   "display_name": "Python 3",
   "language": "python",
   "name": "python3"
  },
  "language_info": {
   "codemirror_mode": {
    "name": "ipython",
    "version": 3
   },
   "file_extension": ".py",
   "mimetype": "text/x-python",
   "name": "python",
   "nbconvert_exporter": "python",
   "pygments_lexer": "ipython3",
   "version": "3.7.6"
  }
 },
 "nbformat": 4,
 "nbformat_minor": 4
}
